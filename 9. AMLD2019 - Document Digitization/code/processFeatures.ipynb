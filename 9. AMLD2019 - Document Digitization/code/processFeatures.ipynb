{
 "cells": [
  {
   "cell_type": "markdown",
   "metadata": {},
   "source": [
    "# Notebook setup"
   ]
  },
  {
   "cell_type": "code",
   "execution_count": 1,
   "metadata": {
    "ExecuteTime": {
     "end_time": "2019-01-26T14:52:35.502155Z",
     "start_time": "2019-01-26T14:52:34.788846Z"
    }
   },
   "outputs": [
    {
     "name": "stdout",
     "output_type": "stream",
     "text": [
      "[nltk_data] Downloading package punkt to /Users/zkovacs/nltk_data...\n",
      "[nltk_data]   Package punkt is already up-to-date!\n",
      "[nltk_data] Downloading package vader_lexicon to\n",
      "[nltk_data]     /Users/zkovacs/nltk_data...\n",
      "[nltk_data]   Package vader_lexicon is already up-to-date!\n"
     ]
    }
   ],
   "source": [
    "import nltk\n",
    "from nltk import sent_tokenize, word_tokenize\n",
    "import os\n",
    "import string\n",
    "import re\n",
    "from nltk.sentiment.vader import SentimentIntensityAnalyzer\n",
    "\n",
    "nltk.download('punkt')\n",
    "nltk.download('vader_lexicon');"
   ]
  },
  {
   "cell_type": "code",
   "execution_count": 2,
   "metadata": {
    "ExecuteTime": {
     "end_time": "2019-01-26T14:52:34.785976Z",
     "start_time": "2019-01-26T14:52:34.781880Z"
    }
   },
   "outputs": [],
   "source": [
    "# Disable output to reduce execution time.\n",
    "output = False"
   ]
  },
  {
   "cell_type": "code",
   "execution_count": 3,
   "metadata": {},
   "outputs": [],
   "source": [
    "outPath = \"../training_set/ocr_output/\"\n",
    "\n",
    "for (dirpath, dirnames, filenames) in os.walk(outPath):\n",
    "    break\n",
    "\n",
    "if '.DS_Store' in filenames :\n",
    "    filenames.remove('.DS_Store')"
   ]
  },
  {
   "cell_type": "markdown",
   "metadata": {},
   "source": [
    "# Features"
   ]
  },
  {
   "cell_type": "markdown",
   "metadata": {},
   "source": [
    "## Useful functions"
   ]
  },
  {
   "cell_type": "code",
   "execution_count": 4,
   "metadata": {
    "ExecuteTime": {
     "end_time": "2019-01-26T14:52:35.523369Z",
     "start_time": "2019-01-26T14:52:35.512369Z"
    }
   },
   "outputs": [],
   "source": [
    "def readFile(filename):\n",
    "    f = open(outPath+filename, 'r', encoding=\"cp1252\") #for MAC ?\n",
    "    rawText = f.read()\n",
    "    text = rawText.replace(\"\\n\\n\", \"%EOL%\").replace(\"\\n\",\" \").replace(\"%EOL%\",\"\\n\")\n",
    "    return text\n",
    "\n",
    "\n",
    "def removePunctuation(text):\n",
    "    return text.translate(str.maketrans('', '', string.punctuation))\n",
    "\n",
    "\n",
    "def findWithKeywords(text, anyKeywords=[], allKeywords=[], excludedKeywords=[]):\n",
    "    text = text.replace(\"\\n\\n\", \"%EOL%\").replace(\"\\n\",\" \").replace(\"%EOL%\",\"\\n\")\n",
    "    sentences = sent_tokenize(text)\n",
    "    matched = []\n",
    "    for sentence in sentences:\n",
    "        if len(anyKeywords) > 0 and not any(keyword in sentence.lower() for keyword in anyKeywords):\n",
    "            continue\n",
    "        if len(allKeywords) and not all(keyword in sentence.lower() for keyword in allKeywords):\n",
    "            continue\n",
    "        if not any(keyword in sentence.lower() for keyword in excludedKeywords):\n",
    "            matched.append(sentence)\n",
    "\n",
    "    return \"\\n\\n\".join(matched)\n",
    "\n",
    "\n",
    "def findWithKeywordsSentenceWindow(text, anyKeywords=[], allKeywords=[], excludedKeywords=[], windowSize=1):\n",
    "    text = text.replace(\"\\n\\n\", \"%EOL%\").replace(\"\\n\",\" \").replace(\"%EOL%\",\"\\n\")\n",
    "    sentences = sent_tokenize(text)\n",
    "    matched = []\n",
    "    \n",
    "    for index in range(0, len(sentences) - windowSize):\n",
    "        sentence = sentences[index] + '\\n\\n' + sentences[index + 1]\n",
    "        if len(anyKeywords) > 0 and not any(keyword in sentence.lower() for keyword in anyKeywords):\n",
    "            continue\n",
    "        if len(allKeywords) and not all(keyword in sentence.lower() for keyword in allKeywords):\n",
    "            continue\n",
    "        if not any(keyword in sentence.lower() for keyword in excludedKeywords):\n",
    "            matched.append(sentence)\n",
    "\n",
    "    return \"\\n\\n\".join(matched)\n",
    "\n",
    "\n",
    "def findSentencesWithAnyKeywords(text, keywords, excludedKeywords=[]):\n",
    "    return findWithKeywords(text, anyKeywords=keywords, excludedKeywords=excludedKeywords)\n",
    "\n",
    "\n",
    "def findSentencesWithAllKeywords(text, keywords, excludedKeywords=[]):\n",
    "    return findWithKeywords(text, allKeywords=keywords, excludedKeywords=excludedKeywords)\n",
    "\n",
    "def findDirectorNumberText(text):\n",
    "    return findSentencesWithAllKeywords(text,[\"number of directors\"], [\"chair\", \"vacancy\", \"vacancies\", \"quorum\"])\n",
    "\n",
    "def findFirstNumberAfterWord(text, paramWord=\"\"):\n",
    "    numWords = [\n",
    "        \"zero\", \"one\", \"two\", \"three\", \"four\", \"five\", \"six\", \"seven\", \"eight\",\n",
    "        \"nine\", \"ten\", \"eleven\", \"twelve\", \"thirteen\", \"fourteen\", \"fifteen\",\n",
    "        \"sixteen\", \"seventeen\", \"eighteen\", \"nineteen\", \"twenty\"]\n",
    "    listWords = word_tokenize(text)\n",
    "    for word in listWords[listWords.index(paramWord):]:\n",
    "        word = removePunctuation(word)\n",
    "        if word in numWords:\n",
    "            return numWords.index(word)\n",
    "        if word.isdigit():\n",
    "            return word\n",
    "    return \"\""
   ]
  },
  {
   "cell_type": "markdown",
   "metadata": {},
   "source": [
    "## Is the company empowered to borrow?"
   ]
  },
  {
   "cell_type": "code",
   "execution_count": 5,
   "metadata": {
    "ExecuteTime": {
     "end_time": "2019-01-26T14:52:35.530272Z",
     "start_time": "2019-01-26T14:52:35.526137Z"
    },
    "scrolled": true
   },
   "outputs": [],
   "source": [
    "def findCanBorrowText(text):\n",
    "    return (\n",
    "        findSentencesWithAnyKeywords(text, [\"any business\", \"issue debt\", \"indebtedness\"])\n",
    "        + \" \"\n",
    "        + findWithKeywords(text, anyKeywords=[\"borrow\", \"raise\"], allKeywords=[\"money\"])\n",
    "        )\n",
    "\n",
    "\n",
    "def canBorrow(text):\n",
    "    canBorrowText = findCanBorrowText(text)\n",
    "    if canBorrowText.strip() == \"\":\n",
    "        return \"no\"\n",
    "    return getSentiment(canBorrowText)\n",
    "\n",
    "\n",
    "def getSentiment(text):\n",
    "    if text.strip() == \"\":\n",
    "        return \"\"\n",
    "    sentimentAnalyzer = SentimentIntensityAnalyzer()\n",
    "    scores = sentimentAnalyzer.polarity_scores(text)\n",
    "    aggregated_score = scores[\"compound\"]\n",
    "    return \"yes\" if aggregated_score > 0 else \"no\"\n",
    "\n",
    "\n",
    "for filename in filenames:\n",
    "    text = readFile(filename)\n",
    "    if output:\n",
    "        print(filename)\n",
    "        print(canBorrow(text))\n",
    "        print(\"\\n\")"
   ]
  },
  {
   "cell_type": "markdown",
   "metadata": {},
   "source": [
    "## What is the size of the board of directors? Minimum and maximum."
   ]
  },
  {
   "cell_type": "code",
   "execution_count": 6,
   "metadata": {
    "ExecuteTime": {
     "end_time": "2019-01-26T14:52:35.639982Z",
     "start_time": "2019-01-26T14:52:35.598395Z"
    }
   },
   "outputs": [],
   "source": [
    "def findMinDirectors(fullText):\n",
    "    directorText = findDirectorNumberText(fullText)\n",
    "    if \"no minimum\" in directorText:\n",
    "        return \"noMin\"            \n",
    "    if \"minimum\" in directorText:\n",
    "        return findFirstNumberAfterWord(directorText, \"minimum\")\n",
    "    if \"less\" in directorText: # for cases of \"not less than\" and \"shall not be less than\"\n",
    "        return findFirstNumberAfterWord(directorText, \"less\")\n",
    "    return \"1\"\n",
    "\n",
    "def findMaxDirectors(fullText):\n",
    "    directorText = findDirectorNumberText(fullText)\n",
    "    if \"no maximum\" in directorText:\n",
    "        return \"noMax\"            \n",
    "    if \"maximum\" in directorText:\n",
    "        return findFirstNumberAfterWord(directorText, \"maximum\")\n",
    "    if \"more\" in directorText: # for cases of \"not more than\" and \"shall not be more than\"\n",
    "        return findFirstNumberAfterWord(directorText, \"more\")\n",
    "    return \"noMax\" # TODO: Use noMax if ran out of ideas\n",
    "\n",
    "for filename in filenames:\n",
    "    text = readFile(filename)\n",
    "    if output:\n",
    "        print(filename)\n",
    "        print(findDirectorNumberText(text))\n",
    "        print(findMinDirectors(text))\n",
    "        print(findMaxDirectors(text))\n",
    "        print(\"\\n\")"
   ]
  },
  {
   "cell_type": "markdown",
   "metadata": {},
   "source": [
    "## Are the directors empowered to borrow?"
   ]
  },
  {
   "cell_type": "code",
   "execution_count": 7,
   "metadata": {},
   "outputs": [],
   "source": [
    "def findDirectorsCanBorrowText(text):\n",
    "    return (\n",
    "        findWithKeywords(text, anyKeywords=[\"borrow\", \"debt\", \"incur\", \"indebtedness\"], allKeywords=[\"directors may\"])\n",
    "        + \" \" \n",
    "        + findWithKeywords(text, anyKeywords=[\"borrow\", \"debt\", \"incur\", \"indebtedness\"], allKeywords=[\"directors can\"])\n",
    "        )\n",
    "\n",
    "def findBoardCanBorrowText(text):\n",
    "    return findWithKeywords(text, anyKeywords=[\"borrow\", \"debt\", \"incur\", \"indebtedness\"], allKeywords=[\"the board may\"])\n",
    "\n",
    "def canDirectorsBorrow(text):\n",
    "    directorsText = findDirectorsCanBorrowText(text)\n",
    "    if directorsText.strip() != \"\":\n",
    "        return getSentiment(directorsText)\n",
    "    boardText = findBoardCanBorrowText(text)\n",
    "    if boardText.strip() != \"\":\n",
    "        return \"no\"\n",
    "    return \"yes\""
   ]
  },
  {
   "cell_type": "markdown",
   "metadata": {},
   "source": [
    "## Is a resolution of directors required to borrow?"
   ]
  },
  {
   "cell_type": "code",
   "execution_count": 8,
   "metadata": {
    "ExecuteTime": {
     "end_time": "2019-01-26T14:52:35.722893Z",
     "start_time": "2019-01-26T14:52:35.682985Z"
    }
   },
   "outputs": [],
   "source": [
    "def resolutionNeeded(text):\n",
    "    directorsText = findDirectorsCanBorrowText(text);\n",
    "    if canDirectorsBorrow(directorsText):\n",
    "        if \"resolution\" in directorsText.lower():        \n",
    "            return \"yes\"\n",
    "        else:\n",
    "            return \"no\"\n",
    "    else:\n",
    "        return \"no\"\n",
    "\n",
    "for filename in filenames:\n",
    "    text = readFile(filename)\n",
    "    if output:\n",
    "        print(filename)\n",
    "        print(findDirectorsCanBorrowText(text))\n",
    "        print(canDirectorsBorrow(text))\n",
    "        print(resolutionNeeded(text))\n",
    "        print(\"\\n\")"
   ]
  },
  {
   "cell_type": "markdown",
   "metadata": {},
   "source": [
    "## What is the quorum for such a resolution?"
   ]
  },
  {
   "cell_type": "code",
   "execution_count": 9,
   "metadata": {},
   "outputs": [],
   "source": [
    "def findQuorumText(text, keywords=[\"quorum\", \"number\"]):\n",
    "    return findWithKeywordsSentenceWindow(text, allKeywords=keywords, anyKeywords=[\"directors\", \"shareholders\"], windowSize=2)\n",
    "\n",
    "def findQuorum(fullText):\n",
    "    quorumText = findQuorumText(fullText)\n",
    "    if quorumText.strip() == \"\":\n",
    "        quorumText = findQuorumText(text, keywords=[\"quorum\", \"meeting\"])\n",
    "    match = re.search(r'not less than (.*?) of the', quorumText)\n",
    "    if match:\n",
    "        matched = match.group(1)\n",
    "        return matched.translate(str.maketrans('-—','  '))\n",
    "    else:\n",
    "        return \"2\"\n",
    "    \n",
    "for filename in filenames:\n",
    "    text = readFile(filename)\n",
    "    if output:\n",
    "        print(filename)\n",
    "        print(findQuorumText(text))\n",
    "        print(\"quorum : \" + findQuorum(text))\n",
    "        print(\"\\n\")"
   ]
  }
 ],
 "metadata": {
  "kernelspec": {
   "display_name": "Python 3",
   "language": "python",
   "name": "python3"
  },
  "language_info": {
   "codemirror_mode": {
    "name": "ipython",
    "version": 3
   },
   "file_extension": ".py",
   "mimetype": "text/x-python",
   "name": "python",
   "nbconvert_exporter": "python",
   "pygments_lexer": "ipython3",
   "version": "3.6.6"
  },
  "toc": {
   "base_numbering": 1,
   "nav_menu": {},
   "number_sections": true,
   "sideBar": true,
   "skip_h1_title": false,
   "title_cell": "Table of Contents",
   "title_sidebar": "Contents",
   "toc_cell": false,
   "toc_position": {},
   "toc_section_display": true,
   "toc_window_display": false
  }
 },
 "nbformat": 4,
 "nbformat_minor": 2
}
