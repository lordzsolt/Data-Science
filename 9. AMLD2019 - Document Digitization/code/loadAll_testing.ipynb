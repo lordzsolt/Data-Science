{
 "cells": [
  {
   "cell_type": "code",
   "execution_count": 1,
   "metadata": {},
   "outputs": [],
   "source": [
    "import fitz as mupdf\n",
    "import numpy as np\n",
    "import pytesseract as tess\n",
    "import matplotlib.pyplot as plt\n",
    "import skimage.transform as skt\n",
    "import skimage.feature as skf\n",
    "import skimage.filters as skl\n",
    "import math\n",
    "import os\n",
    "from ipywidgets import IntProgress\n",
    "from IPython.display import display"
   ]
  },
  {
   "cell_type": "code",
   "execution_count": 2,
   "metadata": {
    "scrolled": true
   },
   "outputs": [
    {
     "name": "stdout",
     "output_type": "stream",
     "text": [
      "output file already exists : ../testing_set/ocr_output/Anti-Aging House Holding Limited.txt\n",
      "output file already exists : ../testing_set/ocr_output/Assets Global International Limited.txt\n",
      "output file already exists : ../testing_set/ocr_output/ATC Primasia Limited.txt\n",
      "output file already exists : ../testing_set/ocr_output/Basic Faith Company Limited - BAD SCAN.txt\n",
      "output file already exists : ../testing_set/ocr_output/Blockchain Holdings Ltd.txt\n",
      "output file already exists : ../testing_set/ocr_output/CHAARAT GOLD HOLDINGS LIMITED.txt\n",
      "output file already exists : ../testing_set/ocr_output/CHAMP KEY HOLDINGS LIMITED.txt\n",
      "output file already exists : ../testing_set/ocr_output/CHINA NEW TOWN DEVELOPMENT COMPANY LIMITED.txt\n",
      "output file already exists : ../testing_set/ocr_output/Eastern Property Holdings Limited.txt\n",
      "output file already exists : ../testing_set/ocr_output/Feishang Anthracite Resources Limited.txt\n",
      "output file already exists : ../testing_set/ocr_output/FOLLBERG INVESTMENTS LIMITED.txt\n",
      "output file already exists : ../testing_set/ocr_output/HaloSource Corporation.txt\n",
      "output file already exists : ../testing_set/ocr_output/INNOPAC HOLDINGS LIMITED.txt\n",
      "output file already exists : ../testing_set/ocr_output/Inspur Overseas Investment Limited.txt\n",
      "output file already exists : ../testing_set/ocr_output/MICHAEL KORS HOLDINGS LTD.txt\n",
      "output file already exists : ../testing_set/ocr_output/MYANMAR INVESTMENTS INTERNATIONAL LIMITED.txt\n",
      "output file already exists : ../testing_set/ocr_output/PORTAGE BIOTECH INC.txt\n",
      "output file already exists : ../testing_set/ocr_output/RIGHT PERFECT LIMITED.txt\n",
      "output file already exists : ../testing_set/ocr_output/SPARKLE ROLL HOLDINGS LIMITED - BAD SCAN.txt\n",
      "output file already exists : ../testing_set/ocr_output/Sundart Holdings Limited.txt\n",
      "output file already exists : ../testing_set/ocr_output/TRIUMPH HOPE LIMITED.txt\n"
     ]
    }
   ],
   "source": [
    "#tess.pytesseract.tesseract_cmd = r'c:\\Users\\Mitz\\AppData\\Local\\Tesseract-OCR\\tesseract.exe' \n",
    "zoomMatrix = mupdf.Matrix(5, 5) #zoom factor, the default resolution is too small\n",
    "\n",
    "rootPath = \"../testing_set/\"\n",
    "outPath = \"../testing_set/ocr_output/\"\n",
    "for (dirpath, dirnames, filenames) in os.walk(rootPath):\n",
    "    break\n",
    "\n",
    "if '.DS_Store' in filenames :\n",
    "    filenames.remove('.DS_Store')\n",
    "\n",
    "def processPage(page):\n",
    "    pix = page.getPixmap(matrix = zoomMatrix, colorspace = \"GRAY\", alpha = False)\n",
    "    img = np.frombuffer(pix.samples, dtype=np.uint8).reshape(pix.height, pix.width)\n",
    "    extracted = tess.image_to_string(img, lang='eng')\n",
    "    return extracted\n",
    "\n",
    "def processFile(filename):\n",
    "    outFileName = outPath + filename[:-4] + \".txt\"\n",
    "    if os.path.isfile(outFileName) :\n",
    "        print(\"output file already exists : \" + outFileName)\n",
    "        return\n",
    "    doc = mupdf.open(rootPath + filename)\n",
    "    print(\"Processing \" + filename + \". Number of pages : \" + str(doc.pageCount))\n",
    "    progress = IntProgress(min=0, max=doc.pageCount) # instantiate the progress bar\n",
    "    display(progress) # display the progress bar\n",
    "    docText = \"\"\n",
    "    for page in doc:\n",
    "        pageText = processPage(page)\n",
    "        progress.value += 1\n",
    "        docText = docText + \"\\n\" + pageText\n",
    "    with open(outFileName, \"w\") as text_file:\n",
    "        text_file.write(docText)\n",
    "\n",
    "#runs in about 12 hours\n",
    "for file in filenames:\n",
    "    processFile(file)\n"
   ]
  },
  {
   "cell_type": "code",
   "execution_count": null,
   "metadata": {},
   "outputs": [],
   "source": [
    "filenames"
   ]
  },
  {
   "cell_type": "code",
   "execution_count": null,
   "metadata": {},
   "outputs": [],
   "source": []
  }
 ],
 "metadata": {
  "kernelspec": {
   "display_name": "Python 3",
   "language": "python",
   "name": "python3"
  },
  "language_info": {
   "codemirror_mode": {
    "name": "ipython",
    "version": 3
   },
   "file_extension": ".py",
   "mimetype": "text/x-python",
   "name": "python",
   "nbconvert_exporter": "python",
   "pygments_lexer": "ipython3",
   "version": "3.7.0"
  }
 },
 "nbformat": 4,
 "nbformat_minor": 2
}
