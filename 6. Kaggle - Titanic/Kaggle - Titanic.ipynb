{
 "cells": [
  {
   "cell_type": "markdown",
   "metadata": {},
   "source": [
    "This is my first attempt at solving Kaggle's Titanic: Machine Learning from Disaster competition.\n",
    "\n",
    "Objectives:\n",
    "- Based on the available data, create a model that can accurately detemine which passanger will survive"
   ]
  },
  {
   "cell_type": "markdown",
   "metadata": {},
   "source": [
    "# Notebook setup"
   ]
  },
  {
   "cell_type": "code",
   "execution_count": 1,
   "metadata": {
    "ExecuteTime": {
     "end_time": "2018-11-11T14:57:49.230195Z",
     "start_time": "2018-11-11T14:57:47.976479Z"
    }
   },
   "outputs": [],
   "source": [
    "import pandas as pd\n",
    "import numpy as np\n",
    "import seaborn as sns\n",
    "import re\n",
    "from collections import Counter\n",
    "import personal\n",
    "\n",
    "%matplotlib inline"
   ]
  },
  {
   "cell_type": "code",
   "execution_count": 2,
   "metadata": {
    "ExecuteTime": {
     "end_time": "2018-11-11T14:57:49.235191Z",
     "start_time": "2018-11-11T14:57:49.231194Z"
    }
   },
   "outputs": [],
   "source": [
    "import warnings\n",
    "warnings.filterwarnings('ignore')"
   ]
  },
  {
   "cell_type": "code",
   "execution_count": 3,
   "metadata": {
    "ExecuteTime": {
     "end_time": "2018-11-11T14:57:49.244181Z",
     "start_time": "2018-11-11T14:57:49.238188Z"
    }
   },
   "outputs": [],
   "source": [
    "sns.set_style('darkgrid')\n",
    "\n",
    " # Disable trunkating the middle of long dataframes. I want to see all the columns.\n",
    "pd.set_option('display.max_colwidth', -1)\n",
    "pd.set_option('display.max_columns', 500)"
   ]
  },
  {
   "cell_type": "code",
   "execution_count": 4,
   "metadata": {
    "ExecuteTime": {
     "end_time": "2018-11-11T14:57:49.255170Z",
     "start_time": "2018-11-11T14:57:49.247179Z"
    }
   },
   "outputs": [
    {
     "data": {
      "application/javascript": [
       "IPython.OutputArea.prototype._should_scroll = function(lines) {\n",
       "    return false;\n",
       "}"
      ],
      "text/plain": [
       "<IPython.core.display.Javascript object>"
      ]
     },
     "metadata": {},
     "output_type": "display_data"
    }
   ],
   "source": [
    "%%javascript\n",
    "IPython.OutputArea.prototype._should_scroll = function(lines) {\n",
    "    return false;\n",
    "}"
   ]
  },
  {
   "cell_type": "markdown",
   "metadata": {},
   "source": [
    "# Explore data"
   ]
  },
  {
   "cell_type": "code",
   "execution_count": 5,
   "metadata": {
    "ExecuteTime": {
     "end_time": "2018-11-11T14:57:49.279146Z",
     "start_time": "2018-11-11T14:57:49.257168Z"
    }
   },
   "outputs": [],
   "source": [
    "trainDF = pd.read_csv(\"input/train.csv\")\n",
    "testDF = pd.read_csv(\"input/test.csv\")"
   ]
  },
  {
   "cell_type": "code",
   "execution_count": 6,
   "metadata": {
    "ExecuteTime": {
     "end_time": "2018-11-11T14:57:49.296128Z",
     "start_time": "2018-11-11T14:57:49.281144Z"
    }
   },
   "outputs": [],
   "source": [
    "combineDF = pd.concat([trainDF, testDF], axis=0).reset_index(drop=True)\n",
    "combineDF = combineDF.fillna(np.nan)"
   ]
  },
  {
   "cell_type": "markdown",
   "metadata": {},
   "source": [
    "## Missing values"
   ]
  },
  {
   "cell_type": "code",
   "execution_count": 7,
   "metadata": {
    "ExecuteTime": {
     "end_time": "2018-11-11T14:57:49.311113Z",
     "start_time": "2018-11-11T14:57:49.297127Z"
    }
   },
   "outputs": [
    {
     "name": "stdout",
     "output_type": "stream",
     "text": [
      "<class 'pandas.core.frame.DataFrame'>\n",
      "RangeIndex: 1309 entries, 0 to 1308\n",
      "Data columns (total 12 columns):\n",
      "Age            1046 non-null float64\n",
      "Cabin          295 non-null object\n",
      "Embarked       1307 non-null object\n",
      "Fare           1308 non-null float64\n",
      "Name           1309 non-null object\n",
      "Parch          1309 non-null int64\n",
      "PassengerId    1309 non-null int64\n",
      "Pclass         1309 non-null int64\n",
      "Sex            1309 non-null object\n",
      "SibSp          1309 non-null int64\n",
      "Survived       891 non-null float64\n",
      "Ticket         1309 non-null object\n",
      "dtypes: float64(3), int64(4), object(5)\n",
      "memory usage: 122.8+ KB\n"
     ]
    }
   ],
   "source": [
    "combineDF.info(null_counts=True)"
   ]
  },
  {
   "cell_type": "code",
   "execution_count": 8,
   "metadata": {
    "ExecuteTime": {
     "end_time": "2018-11-11T14:57:49.325100Z",
     "start_time": "2018-11-11T14:57:49.314111Z"
    }
   },
   "outputs": [
    {
     "data": {
      "text/plain": [
       "Age            0.200917\n",
       "Cabin          0.774637\n",
       "Embarked       0.001528\n",
       "Fare           0.000764\n",
       "Name           0.000000\n",
       "Parch          0.000000\n",
       "PassengerId    0.000000\n",
       "Pclass         0.000000\n",
       "Sex            0.000000\n",
       "SibSp          0.000000\n",
       "Survived       0.319328\n",
       "Ticket         0.000000\n",
       "dtype: float64"
      ]
     },
     "execution_count": 8,
     "metadata": {},
     "output_type": "execute_result"
    }
   ],
   "source": [
    "combineDF.isnull().sum() / combineDF.shape[0]"
   ]
  },
  {
   "cell_type": "markdown",
   "metadata": {},
   "source": [
    "- Cabin has a very high number of missing values. Consider leaving it out for the initial model and revisit later to try to improve the model further.\n",
    "- Age also has quite a lot of missing values. Intuition would suggest that it should have a very important role in survival (remember \"Women and chilren first!\" from the movie), so we should take care of the missing values.\n",
    "- Embarked and Fare have a much lower % of missing values, there's only 2 and 1 observation that are missing these. As a first step, we should use some basic way of imputing these."
   ]
  },
  {
   "cell_type": "markdown",
   "metadata": {},
   "source": [
    "## Numeric variables"
   ]
  },
  {
   "cell_type": "code",
   "execution_count": 9,
   "metadata": {
    "ExecuteTime": {
     "end_time": "2018-11-11T14:57:49.559859Z",
     "start_time": "2018-11-11T14:57:49.327098Z"
    }
   },
   "outputs": [
    {
     "data": {
      "image/png": "[encoded data removed]",
      "text/plain": [
       "<Figure size 432x288 with 2 Axes>"
      ]
     },
     "metadata": {},
     "output_type": "display_data"
    }
   ],
   "source": [
    "sns.heatmap(trainDF[['Survived', 'SibSp', 'Parch', 'Age', 'Fare']].corr(), annot=True, cmap='coolwarm');"
   ]
  },
  {
   "cell_type": "markdown",
   "metadata": {},
   "source": [
    "Fare shows the highest corelation. Most likely more expensive tickets meant more priviledged passangers. Keep this in mind."
   ]
  },
  {
   "cell_type": "markdown",
   "metadata": {},
   "source": [
    "### Siblings and Spouses"
   ]
  },
  {
   "cell_type": "code",
   "execution_count": 10,
   "metadata": {
    "ExecuteTime": {
     "end_time": "2018-11-11T14:57:49.892518Z",
     "start_time": "2018-11-11T14:57:49.560857Z"
    }
   },
   "outputs": [
    {
     "data": {
      "image/png": "[encoded data removed]",
      "text/plain": [
       "<Figure size 432x432 with 1 Axes>"
      ]
     },
     "metadata": {},
     "output_type": "display_data"
    }
   ],
   "source": [
    "sns.factorplot(x='SibSp', y='Survived', data=trainDF, kind='bar', size=6);"
   ]
  },
  {
   "cell_type": "markdown",
   "metadata": {},
   "source": [
    "### Parents and Children"
   ]
  },
  {
   "cell_type": "code",
   "execution_count": 11,
   "metadata": {
    "ExecuteTime": {
     "end_time": "2018-11-11T14:57:50.164239Z",
     "start_time": "2018-11-11T14:57:49.893517Z"
    },
    "scrolled": true
   },
   "outputs": [
    {
     "data": {
      "image/png": "[encoded data removed]",
      "text/plain": [
       "<Figure size 432x432 with 1 Axes>"
      ]
     },
     "metadata": {},
     "output_type": "display_data"
    }
   ],
   "source": [
    "sns.factorplot(x='Parch', y='Survived', data=combineDF, kind='bar', size=6);"
   ]
  },
  {
   "cell_type": "markdown",
   "metadata": {},
   "source": [
    "### Age"
   ]
  },
  {
   "cell_type": "code",
   "execution_count": 12,
   "metadata": {
    "ExecuteTime": {
     "end_time": "2018-11-11T14:57:50.580813Z",
     "start_time": "2018-11-11T14:57:50.165238Z"
    }
   },
   "outputs": [
    {
     "data": {
      "image/png": "[encoded data removed]",
      "text/plain": [
       "<Figure size 864x432 with 2 Axes>"
      ]
     },
     "metadata": {},
     "output_type": "display_data"
    }
   ],
   "source": [
    "g = sns.FacetGrid(trainDF, col='Survived', size=6);\n",
    "g = g.map(sns.distplot, \"Age\");"
   ]
  },
  {
   "cell_type": "markdown",
   "metadata": {},
   "source": [
    "Looking at Age, there is a significant spike for very younger passangers. Babies and children seem more likely to have survived."
   ]
  },
  {
   "cell_type": "code",
   "execution_count": 13,
   "metadata": {
    "ExecuteTime": {
     "end_time": "2018-11-11T14:57:51.605765Z",
     "start_time": "2018-11-11T14:57:50.581812Z"
    }
   },
   "outputs": [
    {
     "data": {
      "image/png": "[encoded data removed]",
      "text/plain": [
       "<Figure size 360x360 with 1 Axes>"
      ]
     },
     "metadata": {},
     "output_type": "display_data"
    },
    {
     "data": {
      "image/png": "[encoded data removed]",
      "text/plain": [
       "<Figure size 360x360 with 1 Axes>"
      ]
     },
     "metadata": {},
     "output_type": "display_data"
    },
    {
     "data": {
      "image/png": "[encoded data removed]",
      "text/plain": [
       "<Figure size 360x360 with 1 Axes>"
      ]
     },
     "metadata": {},
     "output_type": "display_data"
    },
    {
     "data": {
      "image/png": "[encoded data removed]",
      "text/plain": [
       "<Figure size 360x360 with 1 Axes>"
      ]
     },
     "metadata": {},
     "output_type": "display_data"
    }
   ],
   "source": [
    "g = sns.factorplot(y='Age', x='Sex', data=combineDF, kind=\"box\")\n",
    "g = sns.factorplot(y='Age', x='Pclass', data=combineDF, kind=\"box\")\n",
    "g = sns.factorplot(y='Age', x='Parch', data=combineDF, kind=\"box\")\n",
    "g = sns.factorplot(y='Age', x='SibSp', data=combineDF, kind=\"box\")"
   ]
  },
  {
   "cell_type": "code",
   "execution_count": 14,
   "metadata": {
    "ExecuteTime": {
     "end_time": "2018-11-11T14:57:51.885479Z",
     "start_time": "2018-11-11T14:57:51.610760Z"
    }
   },
   "outputs": [
    {
     "data": {
      "image/png": "[encoded data removed]",
      "text/plain": [
       "<Figure size 432x288 with 1 Axes>"
      ]
     },
     "metadata": {},
     "output_type": "display_data"
    }
   ],
   "source": [
    "ages = combineDF[combineDF.Age.notnull()].Age\n",
    "g = sns.distplot(ages, color='b', label=\"Skewness : %.2f\"%(ages.skew()))\n",
    "g = g.legend(loc='best');"
   ]
  },
  {
   "cell_type": "markdown",
   "metadata": {},
   "source": [
    "Age is less skewed. For the initial model, we won't modify it."
   ]
  },
  {
   "cell_type": "markdown",
   "metadata": {},
   "source": [
    "### Fare"
   ]
  },
  {
   "cell_type": "code",
   "execution_count": 15,
   "metadata": {
    "ExecuteTime": {
     "end_time": "2018-11-11T14:57:52.332022Z",
     "start_time": "2018-11-11T14:57:51.887476Z"
    }
   },
   "outputs": [
    {
     "data": {
      "text/html": [
       "<div>\n",
       "<style scoped>\n",
       "    .dataframe tbody tr th:only-of-type {\n",
       "        vertical-align: middle;\n",
       "    }\n",
       "\n",
       "    .dataframe tbody tr th {\n",
       "        vertical-align: top;\n",
       "    }\n",
       "\n",
       "    .dataframe thead th {\n",
       "        text-align: right;\n",
       "    }\n",
       "</style>\n",
       "<table border=\"1\" class=\"dataframe\">\n",
       "  <thead>\n",
       "    <tr style=\"text-align: right;\">\n",
       "      <th></th>\n",
       "      <th>Age</th>\n",
       "      <th>Cabin</th>\n",
       "      <th>Embarked</th>\n",
       "      <th>Fare</th>\n",
       "      <th>Name</th>\n",
       "      <th>Parch</th>\n",
       "      <th>PassengerId</th>\n",
       "      <th>Pclass</th>\n",
       "      <th>Sex</th>\n",
       "      <th>SibSp</th>\n",
       "      <th>Survived</th>\n",
       "      <th>Ticket</th>\n",
       "    </tr>\n",
       "  </thead>\n",
       "  <tbody>\n",
       "    <tr>\n",
       "      <th>257</th>\n",
       "      <td>30.0</td>\n",
       "      <td>B77</td>\n",
       "      <td>S</td>\n",
       "      <td>86.50</td>\n",
       "      <td>Cherry, Miss. Gladys</td>\n",
       "      <td>0</td>\n",
       "      <td>258</td>\n",
       "      <td>1</td>\n",
       "      <td>female</td>\n",
       "      <td>0</td>\n",
       "      <td>1.0</td>\n",
       "      <td>110152</td>\n",
       "    </tr>\n",
       "    <tr>\n",
       "      <th>504</th>\n",
       "      <td>16.0</td>\n",
       "      <td>B79</td>\n",
       "      <td>S</td>\n",
       "      <td>86.50</td>\n",
       "      <td>Maioni, Miss. Roberta</td>\n",
       "      <td>0</td>\n",
       "      <td>505</td>\n",
       "      <td>1</td>\n",
       "      <td>female</td>\n",
       "      <td>0</td>\n",
       "      <td>1.0</td>\n",
       "      <td>110152</td>\n",
       "    </tr>\n",
       "    <tr>\n",
       "      <th>759</th>\n",
       "      <td>33.0</td>\n",
       "      <td>B77</td>\n",
       "      <td>S</td>\n",
       "      <td>86.50</td>\n",
       "      <td>Rothes, the Countess. of (Lucy Noel Martha Dyer-Edwards)</td>\n",
       "      <td>0</td>\n",
       "      <td>760</td>\n",
       "      <td>1</td>\n",
       "      <td>female</td>\n",
       "      <td>0</td>\n",
       "      <td>1.0</td>\n",
       "      <td>110152</td>\n",
       "    </tr>\n",
       "    <tr>\n",
       "      <th>262</th>\n",
       "      <td>52.0</td>\n",
       "      <td>E67</td>\n",
       "      <td>S</td>\n",
       "      <td>79.65</td>\n",
       "      <td>Taussig, Mr. Emil</td>\n",
       "      <td>1</td>\n",
       "      <td>263</td>\n",
       "      <td>1</td>\n",
       "      <td>male</td>\n",
       "      <td>1</td>\n",
       "      <td>0.0</td>\n",
       "      <td>110413</td>\n",
       "    </tr>\n",
       "    <tr>\n",
       "      <th>558</th>\n",
       "      <td>39.0</td>\n",
       "      <td>E67</td>\n",
       "      <td>S</td>\n",
       "      <td>79.65</td>\n",
       "      <td>Taussig, Mrs. Emil (Tillie Mandelbaum)</td>\n",
       "      <td>1</td>\n",
       "      <td>559</td>\n",
       "      <td>1</td>\n",
       "      <td>female</td>\n",
       "      <td>1</td>\n",
       "      <td>1.0</td>\n",
       "      <td>110413</td>\n",
       "    </tr>\n",
       "  </tbody>\n",
       "</table>\n",
       "</div>"
      ],
      "text/plain": [
       "      Age Cabin Embarked   Fare  \\\n",
       "257  30.0  B77   S        86.50   \n",
       "504  16.0  B79   S        86.50   \n",
       "759  33.0  B77   S        86.50   \n",
       "262  52.0  E67   S        79.65   \n",
       "558  39.0  E67   S        79.65   \n",
       "\n",
       "                                                         Name  Parch  \\\n",
       "257  Cherry, Miss. Gladys                                      0       \n",
       "504  Maioni, Miss. Roberta                                     0       \n",
       "759  Rothes, the Countess. of (Lucy Noel Martha Dyer-Edwards)  0       \n",
       "262  Taussig, Mr. Emil                                         1       \n",
       "558  Taussig, Mrs. Emil (Tillie Mandelbaum)                    1       \n",
       "\n",
       "     PassengerId  Pclass     Sex  SibSp  Survived  Ticket  \n",
       "257  258          1       female  0      1.0       110152  \n",
       "504  505          1       female  0      1.0       110152  \n",
       "759  760          1       female  0      1.0       110152  \n",
       "262  263          1       male    1      0.0       110413  \n",
       "558  559          1       female  1      1.0       110413  "
      ]
     },
     "execution_count": 15,
     "metadata": {},
     "output_type": "execute_result"
    }
   ],
   "source": [
    "duplicates = pd.concat(g for _, g in combineDF.groupby('Ticket') if len(g) > 1)\n",
    "duplicates.head()"
   ]
  },
  {
   "cell_type": "markdown",
   "metadata": {},
   "source": [
    "Looking at Tickets, some passanger have the same Ticket and same Fare, meaning they bought a group ticket. The fare value is incorrect in this case, as it should be split evenly across each person. Keep this in mind."
   ]
  },
  {
   "cell_type": "code",
   "execution_count": 16,
   "metadata": {
    "ExecuteTime": {
     "end_time": "2018-11-11T14:57:52.642704Z",
     "start_time": "2018-11-11T14:57:52.334020Z"
    }
   },
   "outputs": [
    {
     "data": {
      "image/png": "[encoded data removed]",
      "text/plain": [
       "<Figure size 432x288 with 1 Axes>"
      ]
     },
     "metadata": {},
     "output_type": "display_data"
    }
   ],
   "source": [
    "fares = combineDF.Fare[combineDF.Fare.isnull() == False]\n",
    "g = sns.distplot(fares, color='b', label=\"Skewness : %.2f\"%(fares.skew()))\n",
    "g = g.legend(loc='best')"
   ]
  },
  {
   "cell_type": "markdown",
   "metadata": {},
   "source": [
    "Fare is significantly skewed. Looking at the distplot, a log transformation would be helpful."
   ]
  },
  {
   "cell_type": "markdown",
   "metadata": {},
   "source": [
    "## Categorical variables"
   ]
  },
  {
   "cell_type": "markdown",
   "metadata": {},
   "source": [
    "### Passanger class"
   ]
  },
  {
   "cell_type": "code",
   "execution_count": 17,
   "metadata": {
    "ExecuteTime": {
     "end_time": "2018-11-11T14:57:52.911428Z",
     "start_time": "2018-11-11T14:57:52.644702Z"
    },
    "scrolled": true
   },
   "outputs": [
    {
     "data": {
      "image/png": "[encoded data removed]",
      "text/plain": [
       "<Figure size 432x432 with 1 Axes>"
      ]
     },
     "metadata": {},
     "output_type": "display_data"
    }
   ],
   "source": [
    "sns.factorplot(x='Pclass', y='Survived', data=combineDF, kind=\"bar\", size=6);"
   ]
  },
  {
   "cell_type": "markdown",
   "metadata": {},
   "source": [
    "As expected, there's a significant dropoff in survival rates in lower passanger classes."
   ]
  },
  {
   "cell_type": "markdown",
   "metadata": {},
   "source": [
    "### Gender"
   ]
  },
  {
   "cell_type": "code",
   "execution_count": 18,
   "metadata": {
    "ExecuteTime": {
     "end_time": "2018-11-11T14:57:53.156178Z",
     "start_time": "2018-11-11T14:57:52.913427Z"
    }
   },
   "outputs": [
    {
     "data": {
      "image/png": "[encoded data removed]",
      "text/plain": [
       "<Figure size 432x432 with 1 Axes>"
      ]
     },
     "metadata": {},
     "output_type": "display_data"
    }
   ],
   "source": [
    "sns.factorplot(x='Sex', y='Survived', data=combineDF, kind=\"bar\", size=6);"
   ]
  },
  {
   "cell_type": "code",
   "execution_count": 19,
   "metadata": {
    "ExecuteTime": {
     "end_time": "2018-11-11T14:57:53.648675Z",
     "start_time": "2018-11-11T14:57:53.158176Z"
    }
   },
   "outputs": [
    {
     "data": {
      "image/png": "[encoded data removed]",
      "text/plain": [
       "<Figure size 498.125x432 with 1 Axes>"
      ]
     },
     "metadata": {},
     "output_type": "display_data"
    }
   ],
   "source": [
    "sns.factorplot(x='Pclass', y='Survived', hue='Sex', data=combineDF, kind=\"bar\", size=6);"
   ]
  },
  {
   "cell_type": "markdown",
   "metadata": {},
   "source": [
    "Not surprisingly, women had a much higher survival rate."
   ]
  },
  {
   "cell_type": "markdown",
   "metadata": {},
   "source": [
    "### Cabin"
   ]
  },
  {
   "cell_type": "code",
   "execution_count": 20,
   "metadata": {
    "ExecuteTime": {
     "end_time": "2018-11-11T14:57:53.659663Z",
     "start_time": "2018-11-11T14:57:53.652672Z"
    }
   },
   "outputs": [],
   "source": [
    "combineDF.Cabin = combineDF.Cabin.fillna('X')\n",
    "combineDF.Cabin = list(map(lambda x: x[0], combineDF.Cabin))"
   ]
  },
  {
   "cell_type": "code",
   "execution_count": 21,
   "metadata": {
    "ExecuteTime": {
     "end_time": "2018-11-11T14:57:54.029285Z",
     "start_time": "2018-11-11T14:57:53.662660Z"
    },
    "scrolled": true
   },
   "outputs": [
    {
     "data": {
      "image/png": "[encoded data removed]",
      "text/plain": [
       "<Figure size 432x432 with 1 Axes>"
      ]
     },
     "metadata": {},
     "output_type": "display_data"
    }
   ],
   "source": [
    "sns.factorplot(x='Cabin', y='Survived', data=combineDF, kind=\"bar\", size=6);"
   ]
  },
  {
   "cell_type": "markdown",
   "metadata": {},
   "source": [
    "Weirdly enough, those that did not have a cabin assigned had a much lower change of survival. Perhaps Cabin is correlated with Pclass?"
   ]
  },
  {
   "cell_type": "markdown",
   "metadata": {},
   "source": [
    "# Cleanup"
   ]
  },
  {
   "cell_type": "markdown",
   "metadata": {},
   "source": [
    "As discussed earlier, some passangers have a group ticket, so Fare is not representative. The fare should be split evenly across ticket holders."
   ]
  },
  {
   "cell_type": "code",
   "execution_count": 22,
   "metadata": {
    "ExecuteTime": {
     "end_time": "2018-11-11T14:57:54.037277Z",
     "start_time": "2018-11-11T14:57:54.030284Z"
    }
   },
   "outputs": [],
   "source": [
    "def handle_same_tickets(df):\n",
    "    duplicates = pd.concat(g for _, g in df.groupby('Ticket') if len(g) > 1)\n",
    "    duplicates.drop_duplicates(subset=['Ticket'], inplace=True)\n",
    "    duplicate_tickets = duplicates['Ticket']\n",
    "    \n",
    "    ticket_price_map = {}\n",
    "    for ticket in duplicate_tickets:\n",
    "        same = df[df.Ticket == ticket]\n",
    "        distinct_fares = same.drop_duplicates(subset=['Fare'])\n",
    "        if len(distinct_fares) > 1:\n",
    "            # For some reason there's one group, with Ticket = 7534 who have distinct Fare values, skip that\n",
    "            continue\n",
    "        group_size = len(same)\n",
    "        ticket_price_map[ticket] = same.iloc[1]['Fare'] / group_size\n",
    "        \n",
    "        \n",
    "    return df.apply(lambda x: ticket_price_map[x['Ticket']] if x['Ticket'] in ticket_price_map.keys() else x['Fare'], axis=1)"
   ]
  },
  {
   "cell_type": "code",
   "execution_count": 23,
   "metadata": {
    "ExecuteTime": {
     "end_time": "2018-11-11T14:57:54.944348Z",
     "start_time": "2018-11-11T14:57:54.039274Z"
    }
   },
   "outputs": [],
   "source": [
    "combineDF.Fare = handle_same_tickets(combineDF)"
   ]
  },
  {
   "cell_type": "markdown",
   "metadata": {},
   "source": [
    "## Outliers\n",
    "\n",
    "For the first model, we will drop outliers based on the Tukey method (1.5 * IQR)"
   ]
  },
  {
   "cell_type": "code",
   "execution_count": 24,
   "metadata": {
    "ExecuteTime": {
     "end_time": "2018-11-11T14:57:54.963329Z",
     "start_time": "2018-11-11T14:57:54.945347Z"
    }
   },
   "outputs": [],
   "source": [
    "def detect_outliers(df, n, features):\n",
    "    \"\"\"\n",
    "    Takes a dataframe df of features and returns a list of the indices\n",
    "    corresponding to the observations containing more than n outliers according\n",
    "    to the Tukey method.\n",
    "    \"\"\"\n",
    "    outlier_indices = []\n",
    "    \n",
    "    for col in features:\n",
    "        Q1 = np.percentile(df[col], 25)\n",
    "        Q3 = np.percentile(df[col], 75)\n",
    "        IQR = Q3 - Q1\n",
    "\n",
    "        outlier_step = 1.5 * IQR\n",
    "\n",
    "        outlier_list_col = df[(df[col] < Q1 - outlier_step) | (df[col] > Q3 + outlier_step)].index\n",
    "\n",
    "        outlier_indices.extend(outlier_list_col)\n",
    "        \n",
    "    outlier_indices = Counter(outlier_indices)        \n",
    "    multiple_outliers = list(k for k, v in outlier_indices.items() if v > n)\n",
    "    \n",
    "    return multiple_outliers   \n",
    "\n",
    "# detect outliers from Age, SibSp , Parch and Fare\n",
    "outliers_to_drop = detect_outliers(trainDF, 2, ['Age', 'SibSp', 'Parch', 'Fare'])\n",
    "trainDF.loc[outliers_to_drop]\n",
    "\n",
    "trainDF = trainDF.drop(outliers_to_drop, axis=0).reset_index(drop=True)"
   ]
  },
  {
   "cell_type": "markdown",
   "metadata": {},
   "source": [
    "## Missing values"
   ]
  },
  {
   "cell_type": "markdown",
   "metadata": {},
   "source": [
    "### Fare"
   ]
  },
  {
   "cell_type": "code",
   "execution_count": 25,
   "metadata": {
    "ExecuteTime": {
     "end_time": "2018-11-11T14:57:54.981311Z",
     "start_time": "2018-11-11T14:57:54.965327Z"
    },
    "scrolled": true
   },
   "outputs": [
    {
     "data": {
      "text/html": [
       "<div>\n",
       "<style scoped>\n",
       "    .dataframe tbody tr th:only-of-type {\n",
       "        vertical-align: middle;\n",
       "    }\n",
       "\n",
       "    .dataframe tbody tr th {\n",
       "        vertical-align: top;\n",
       "    }\n",
       "\n",
       "    .dataframe thead th {\n",
       "        text-align: right;\n",
       "    }\n",
       "</style>\n",
       "<table border=\"1\" class=\"dataframe\">\n",
       "  <thead>\n",
       "    <tr style=\"text-align: right;\">\n",
       "      <th></th>\n",
       "      <th>Age</th>\n",
       "      <th>Cabin</th>\n",
       "      <th>Embarked</th>\n",
       "      <th>Fare</th>\n",
       "      <th>Name</th>\n",
       "      <th>Parch</th>\n",
       "      <th>PassengerId</th>\n",
       "      <th>Pclass</th>\n",
       "      <th>Sex</th>\n",
       "      <th>SibSp</th>\n",
       "      <th>Survived</th>\n",
       "      <th>Ticket</th>\n",
       "    </tr>\n",
       "  </thead>\n",
       "  <tbody>\n",
       "    <tr>\n",
       "      <th>1043</th>\n",
       "      <td>60.5</td>\n",
       "      <td>X</td>\n",
       "      <td>S</td>\n",
       "      <td>NaN</td>\n",
       "      <td>Storey, Mr. Thomas</td>\n",
       "      <td>0</td>\n",
       "      <td>1044</td>\n",
       "      <td>3</td>\n",
       "      <td>male</td>\n",
       "      <td>0</td>\n",
       "      <td>NaN</td>\n",
       "      <td>3701</td>\n",
       "    </tr>\n",
       "  </tbody>\n",
       "</table>\n",
       "</div>"
      ],
      "text/plain": [
       "       Age Cabin Embarked  Fare                Name  Parch  PassengerId  \\\n",
       "1043  60.5  X     S       NaN    Storey, Mr. Thomas  0      1044          \n",
       "\n",
       "      Pclass   Sex  SibSp  Survived Ticket  \n",
       "1043  3       male  0     NaN        3701   "
      ]
     },
     "execution_count": 25,
     "metadata": {},
     "output_type": "execute_result"
    }
   ],
   "source": [
    "combineDF[combineDF.Fare.isnull()]"
   ]
  },
  {
   "cell_type": "markdown",
   "metadata": {},
   "source": [
    "For now, just use the median value based on Pclass and Embarked."
   ]
  },
  {
   "cell_type": "code",
   "execution_count": 26,
   "metadata": {
    "ExecuteTime": {
     "end_time": "2018-11-11T14:57:54.994297Z",
     "start_time": "2018-11-11T14:57:54.984308Z"
    }
   },
   "outputs": [],
   "source": [
    "people = combineDF[(combineDF.Embarked == 'S') & (combineDF.Pclass == 3)]\n",
    "combineDF.loc[combineDF.PassengerId == 1044, 'Fare'] = people.Fare.median()"
   ]
  },
  {
   "cell_type": "markdown",
   "metadata": {},
   "source": [
    "### Embarked"
   ]
  },
  {
   "cell_type": "code",
   "execution_count": 27,
   "metadata": {
    "ExecuteTime": {
     "end_time": "2018-11-11T14:57:55.012279Z",
     "start_time": "2018-11-11T14:57:54.996296Z"
    }
   },
   "outputs": [
    {
     "data": {
      "text/html": [
       "<div>\n",
       "<style scoped>\n",
       "    .dataframe tbody tr th:only-of-type {\n",
       "        vertical-align: middle;\n",
       "    }\n",
       "\n",
       "    .dataframe tbody tr th {\n",
       "        vertical-align: top;\n",
       "    }\n",
       "\n",
       "    .dataframe thead th {\n",
       "        text-align: right;\n",
       "    }\n",
       "</style>\n",
       "<table border=\"1\" class=\"dataframe\">\n",
       "  <thead>\n",
       "    <tr style=\"text-align: right;\">\n",
       "      <th></th>\n",
       "      <th>Age</th>\n",
       "      <th>Cabin</th>\n",
       "      <th>Embarked</th>\n",
       "      <th>Fare</th>\n",
       "      <th>Name</th>\n",
       "      <th>Parch</th>\n",
       "      <th>PassengerId</th>\n",
       "      <th>Pclass</th>\n",
       "      <th>Sex</th>\n",
       "      <th>SibSp</th>\n",
       "      <th>Survived</th>\n",
       "      <th>Ticket</th>\n",
       "    </tr>\n",
       "  </thead>\n",
       "  <tbody>\n",
       "    <tr>\n",
       "      <th>61</th>\n",
       "      <td>38.0</td>\n",
       "      <td>B</td>\n",
       "      <td>NaN</td>\n",
       "      <td>40.0</td>\n",
       "      <td>Icard, Miss. Amelie</td>\n",
       "      <td>0</td>\n",
       "      <td>62</td>\n",
       "      <td>1</td>\n",
       "      <td>female</td>\n",
       "      <td>0</td>\n",
       "      <td>1.0</td>\n",
       "      <td>113572</td>\n",
       "    </tr>\n",
       "    <tr>\n",
       "      <th>829</th>\n",
       "      <td>62.0</td>\n",
       "      <td>B</td>\n",
       "      <td>NaN</td>\n",
       "      <td>40.0</td>\n",
       "      <td>Stone, Mrs. George Nelson (Martha Evelyn)</td>\n",
       "      <td>0</td>\n",
       "      <td>830</td>\n",
       "      <td>1</td>\n",
       "      <td>female</td>\n",
       "      <td>0</td>\n",
       "      <td>1.0</td>\n",
       "      <td>113572</td>\n",
       "    </tr>\n",
       "  </tbody>\n",
       "</table>\n",
       "</div>"
      ],
      "text/plain": [
       "      Age Cabin Embarked  Fare                                       Name  \\\n",
       "61   38.0  B     NaN      40.0  Icard, Miss. Amelie                         \n",
       "829  62.0  B     NaN      40.0  Stone, Mrs. George Nelson (Martha Evelyn)   \n",
       "\n",
       "     Parch  PassengerId  Pclass     Sex  SibSp  Survived  Ticket  \n",
       "61   0      62           1       female  0      1.0       113572  \n",
       "829  0      830          1       female  0      1.0       113572  "
      ]
     },
     "execution_count": 27,
     "metadata": {},
     "output_type": "execute_result"
    }
   ],
   "source": [
    "combineDF[combineDF['Embarked'].isnull()]"
   ]
  },
  {
   "cell_type": "code",
   "execution_count": 28,
   "metadata": {
    "ExecuteTime": {
     "end_time": "2018-11-11T14:57:55.026265Z",
     "start_time": "2018-11-11T14:57:55.015276Z"
    }
   },
   "outputs": [
    {
     "name": "stdout",
     "output_type": "stream",
     "text": [
      "S:  26.55\n",
      "C:  34.65\n",
      "Q:  30.0\n"
     ]
    }
   ],
   "source": [
    "embarkedS = combineDF[(combineDF.Embarked == 'S') & (combineDF.Pclass == 1)]\n",
    "embarkedC = combineDF[(combineDF.Embarked == 'C') & (combineDF.Pclass == 1)]\n",
    "embarkedQ = combineDF[(combineDF.Embarked == 'Q') & (combineDF.Pclass == 1)]\n",
    "\n",
    "print('S: ', embarkedS.Fare.median())\n",
    "print('C: ', embarkedC.Fare.median())\n",
    "print('Q: ', embarkedQ.Fare.median())"
   ]
  },
  {
   "cell_type": "markdown",
   "metadata": {},
   "source": [
    "Embarked C has the highest and closest median Fare price. Use that for missing values."
   ]
  },
  {
   "cell_type": "code",
   "execution_count": 29,
   "metadata": {
    "ExecuteTime": {
     "end_time": "2018-11-11T14:57:55.037253Z",
     "start_time": "2018-11-11T14:57:55.027263Z"
    }
   },
   "outputs": [],
   "source": [
    "combineDF.loc[combineDF.PassengerId == 62, 'Embarked'] = 'C'\n",
    "combineDF.loc[combineDF.PassengerId == 830, 'Embarked'] = 'C'"
   ]
  },
  {
   "cell_type": "markdown",
   "metadata": {},
   "source": [
    "### Sex"
   ]
  },
  {
   "cell_type": "code",
   "execution_count": 30,
   "metadata": {
    "ExecuteTime": {
     "end_time": "2018-11-11T14:57:55.054236Z",
     "start_time": "2018-11-11T14:57:55.038253Z"
    }
   },
   "outputs": [
    {
     "data": {
      "text/html": [
       "<div>\n",
       "<style scoped>\n",
       "    .dataframe tbody tr th:only-of-type {\n",
       "        vertical-align: middle;\n",
       "    }\n",
       "\n",
       "    .dataframe tbody tr th {\n",
       "        vertical-align: top;\n",
       "    }\n",
       "\n",
       "    .dataframe thead th {\n",
       "        text-align: right;\n",
       "    }\n",
       "</style>\n",
       "<table border=\"1\" class=\"dataframe\">\n",
       "  <thead>\n",
       "    <tr style=\"text-align: right;\">\n",
       "      <th></th>\n",
       "      <th>Age</th>\n",
       "      <th>Cabin</th>\n",
       "      <th>Embarked</th>\n",
       "      <th>Fare</th>\n",
       "      <th>Name</th>\n",
       "      <th>Parch</th>\n",
       "      <th>PassengerId</th>\n",
       "      <th>Pclass</th>\n",
       "      <th>Sex</th>\n",
       "      <th>SibSp</th>\n",
       "      <th>Survived</th>\n",
       "      <th>Ticket</th>\n",
       "    </tr>\n",
       "  </thead>\n",
       "  <tbody>\n",
       "    <tr>\n",
       "      <th>0</th>\n",
       "      <td>22.0</td>\n",
       "      <td>X</td>\n",
       "      <td>S</td>\n",
       "      <td>7.25000</td>\n",
       "      <td>Braund, Mr. Owen Harris</td>\n",
       "      <td>0</td>\n",
       "      <td>1</td>\n",
       "      <td>3</td>\n",
       "      <td>0</td>\n",
       "      <td>1</td>\n",
       "      <td>0.0</td>\n",
       "      <td>A/5 21171</td>\n",
       "    </tr>\n",
       "    <tr>\n",
       "      <th>1</th>\n",
       "      <td>38.0</td>\n",
       "      <td>C</td>\n",
       "      <td>C</td>\n",
       "      <td>35.64165</td>\n",
       "      <td>Cumings, Mrs. John Bradley (Florence Briggs Thayer)</td>\n",
       "      <td>0</td>\n",
       "      <td>2</td>\n",
       "      <td>1</td>\n",
       "      <td>1</td>\n",
       "      <td>1</td>\n",
       "      <td>1.0</td>\n",
       "      <td>PC 17599</td>\n",
       "    </tr>\n",
       "    <tr>\n",
       "      <th>2</th>\n",
       "      <td>26.0</td>\n",
       "      <td>X</td>\n",
       "      <td>S</td>\n",
       "      <td>7.92500</td>\n",
       "      <td>Heikkinen, Miss. Laina</td>\n",
       "      <td>0</td>\n",
       "      <td>3</td>\n",
       "      <td>3</td>\n",
       "      <td>1</td>\n",
       "      <td>0</td>\n",
       "      <td>1.0</td>\n",
       "      <td>STON/O2. 3101282</td>\n",
       "    </tr>\n",
       "    <tr>\n",
       "      <th>3</th>\n",
       "      <td>35.0</td>\n",
       "      <td>C</td>\n",
       "      <td>S</td>\n",
       "      <td>26.55000</td>\n",
       "      <td>Futrelle, Mrs. Jacques Heath (Lily May Peel)</td>\n",
       "      <td>0</td>\n",
       "      <td>4</td>\n",
       "      <td>1</td>\n",
       "      <td>1</td>\n",
       "      <td>1</td>\n",
       "      <td>1.0</td>\n",
       "      <td>113803</td>\n",
       "    </tr>\n",
       "    <tr>\n",
       "      <th>4</th>\n",
       "      <td>35.0</td>\n",
       "      <td>X</td>\n",
       "      <td>S</td>\n",
       "      <td>8.05000</td>\n",
       "      <td>Allen, Mr. William Henry</td>\n",
       "      <td>0</td>\n",
       "      <td>5</td>\n",
       "      <td>3</td>\n",
       "      <td>0</td>\n",
       "      <td>0</td>\n",
       "      <td>0.0</td>\n",
       "      <td>373450</td>\n",
       "    </tr>\n",
       "  </tbody>\n",
       "</table>\n",
       "</div>"
      ],
      "text/plain": [
       "    Age Cabin Embarked      Fare  \\\n",
       "0  22.0  X     S        7.25000    \n",
       "1  38.0  C     C        35.64165   \n",
       "2  26.0  X     S        7.92500    \n",
       "3  35.0  C     S        26.55000   \n",
       "4  35.0  X     S        8.05000    \n",
       "\n",
       "                                                  Name  Parch  PassengerId  \\\n",
       "0  Braund, Mr. Owen Harris                              0      1             \n",
       "1  Cumings, Mrs. John Bradley (Florence Briggs Thayer)  0      2             \n",
       "2  Heikkinen, Miss. Laina                               0      3             \n",
       "3  Futrelle, Mrs. Jacques Heath (Lily May Peel)         0      4             \n",
       "4  Allen, Mr. William Henry                             0      5             \n",
       "\n",
       "   Pclass  Sex  SibSp  Survived            Ticket  \n",
       "0  3       0    1      0.0       A/5 21171         \n",
       "1  1       1    1      1.0       PC 17599          \n",
       "2  3       1    0      1.0       STON/O2. 3101282  \n",
       "3  1       1    1      1.0       113803            \n",
       "4  3       0    0      0.0       373450            "
      ]
     },
     "execution_count": 30,
     "metadata": {},
     "output_type": "execute_result"
    }
   ],
   "source": [
    "combineDF.Sex = combineDF.Sex.map({'male': 0, 'female': 1})\n",
    "combineDF.head()"
   ]
  },
  {
   "cell_type": "markdown",
   "metadata": {},
   "source": [
    "### Fare\n",
    "\n",
    "Apply a log transformation to reduce skewness."
   ]
  },
  {
   "cell_type": "code",
   "execution_count": 31,
   "metadata": {
    "ExecuteTime": {
     "end_time": "2018-11-11T14:57:55.061229Z",
     "start_time": "2018-11-11T14:57:55.055235Z"
    }
   },
   "outputs": [],
   "source": [
    "combineDF.Fare = combineDF.Fare.map(lambda i: np.log(i) if i > 0 else 0)"
   ]
  },
  {
   "cell_type": "code",
   "execution_count": 32,
   "metadata": {
    "ExecuteTime": {
     "end_time": "2018-11-11T14:57:55.596681Z",
     "start_time": "2018-11-11T14:57:55.063227Z"
    }
   },
   "outputs": [
    {
     "data": {
      "image/png": "[encoded data removed]",
      "text/plain": [
       "<Figure size 432x288 with 1 Axes>"
      ]
     },
     "metadata": {},
     "output_type": "display_data"
    }
   ],
   "source": [
    "fares = combineDF.Fare\n",
    "g = sns.distplot(fares, color='b', label=\"Skewness : %.2f\"%(fares.skew()))\n",
    "g = g.legend(loc='best')"
   ]
  },
  {
   "cell_type": "markdown",
   "metadata": {},
   "source": [
    "### Age\n",
    "\n",
    "In one of the R kernels, I saw a model that was preforming extremely well used MICE imputation for the age variable instead of trying to deal with it by hand. I will try to replicate the same thing in Python."
   ]
  },
  {
   "cell_type": "code",
   "execution_count": 33,
   "metadata": {
    "ExecuteTime": {
     "end_time": "2018-11-11T14:57:55.963305Z",
     "start_time": "2018-11-11T14:57:55.598679Z"
    }
   },
   "outputs": [
    {
     "data": {
      "image/png": "[encoded data removed]",
      "text/plain": [
       "<Figure size 432x288 with 2 Axes>"
      ]
     },
     "metadata": {},
     "output_type": "display_data"
    }
   ],
   "source": [
    "sns.heatmap(combineDF[['Age', 'Sex', 'Parch', 'SibSp', 'Pclass']].corr(), annot=True, cmap='coolwarm');"
   ]
  },
  {
   "cell_type": "code",
   "execution_count": 34,
   "metadata": {
    "ExecuteTime": {
     "end_time": "2018-11-11T14:57:55.985283Z",
     "start_time": "2018-11-11T14:57:55.964305Z"
    }
   },
   "outputs": [
    {
     "data": {
      "text/html": [
       "<div>\n",
       "<style scoped>\n",
       "    .dataframe tbody tr th:only-of-type {\n",
       "        vertical-align: middle;\n",
       "    }\n",
       "\n",
       "    .dataframe tbody tr th {\n",
       "        vertical-align: top;\n",
       "    }\n",
       "\n",
       "    .dataframe thead th {\n",
       "        text-align: right;\n",
       "    }\n",
       "</style>\n",
       "<table border=\"1\" class=\"dataframe\">\n",
       "  <thead>\n",
       "    <tr style=\"text-align: right;\">\n",
       "      <th></th>\n",
       "      <th>Age</th>\n",
       "      <th>Fare</th>\n",
       "      <th>Parch</th>\n",
       "      <th>PassengerId</th>\n",
       "      <th>Pclass</th>\n",
       "      <th>Sex</th>\n",
       "      <th>SibSp</th>\n",
       "      <th>Survived</th>\n",
       "      <th>Embarked_C</th>\n",
       "      <th>Embarked_Q</th>\n",
       "      <th>Embarked_S</th>\n",
       "    </tr>\n",
       "  </thead>\n",
       "  <tbody>\n",
       "    <tr>\n",
       "      <th>0</th>\n",
       "      <td>22.0</td>\n",
       "      <td>1.981001</td>\n",
       "      <td>0</td>\n",
       "      <td>1</td>\n",
       "      <td>3</td>\n",
       "      <td>0</td>\n",
       "      <td>1</td>\n",
       "      <td>0.0</td>\n",
       "      <td>0</td>\n",
       "      <td>0</td>\n",
       "      <td>1</td>\n",
       "    </tr>\n",
       "    <tr>\n",
       "      <th>1</th>\n",
       "      <td>38.0</td>\n",
       "      <td>3.573515</td>\n",
       "      <td>0</td>\n",
       "      <td>2</td>\n",
       "      <td>1</td>\n",
       "      <td>1</td>\n",
       "      <td>1</td>\n",
       "      <td>1.0</td>\n",
       "      <td>1</td>\n",
       "      <td>0</td>\n",
       "      <td>0</td>\n",
       "    </tr>\n",
       "    <tr>\n",
       "      <th>2</th>\n",
       "      <td>26.0</td>\n",
       "      <td>2.070022</td>\n",
       "      <td>0</td>\n",
       "      <td>3</td>\n",
       "      <td>3</td>\n",
       "      <td>1</td>\n",
       "      <td>0</td>\n",
       "      <td>1.0</td>\n",
       "      <td>0</td>\n",
       "      <td>0</td>\n",
       "      <td>1</td>\n",
       "    </tr>\n",
       "    <tr>\n",
       "      <th>3</th>\n",
       "      <td>35.0</td>\n",
       "      <td>3.279030</td>\n",
       "      <td>0</td>\n",
       "      <td>4</td>\n",
       "      <td>1</td>\n",
       "      <td>1</td>\n",
       "      <td>1</td>\n",
       "      <td>1.0</td>\n",
       "      <td>0</td>\n",
       "      <td>0</td>\n",
       "      <td>1</td>\n",
       "    </tr>\n",
       "    <tr>\n",
       "      <th>4</th>\n",
       "      <td>35.0</td>\n",
       "      <td>2.085672</td>\n",
       "      <td>0</td>\n",
       "      <td>5</td>\n",
       "      <td>3</td>\n",
       "      <td>0</td>\n",
       "      <td>0</td>\n",
       "      <td>0.0</td>\n",
       "      <td>0</td>\n",
       "      <td>0</td>\n",
       "      <td>1</td>\n",
       "    </tr>\n",
       "  </tbody>\n",
       "</table>\n",
       "</div>"
      ],
      "text/plain": [
       "    Age      Fare  Parch  PassengerId  Pclass  Sex  SibSp  Survived  \\\n",
       "0  22.0  1.981001  0      1            3       0    1      0.0        \n",
       "1  38.0  3.573515  0      2            1       1    1      1.0        \n",
       "2  26.0  2.070022  0      3            3       1    0      1.0        \n",
       "3  35.0  3.279030  0      4            1       1    1      1.0        \n",
       "4  35.0  2.085672  0      5            3       0    0      0.0        \n",
       "\n",
       "   Embarked_C  Embarked_Q  Embarked_S  \n",
       "0  0           0           1           \n",
       "1  1           0           0           \n",
       "2  0           0           1           \n",
       "3  0           0           1           \n",
       "4  0           0           1           "
      ]
     },
     "execution_count": 34,
     "metadata": {},
     "output_type": "execute_result"
    }
   ],
   "source": [
    "features = combineDF.copy()\n",
    "features.drop(labels=['Name', 'Ticket', 'Cabin'], axis=1, inplace=True)\n",
    "features = pd.get_dummies(features, columns=['Embarked'])\n",
    "features.head()"
   ]
  },
  {
   "cell_type": "code",
   "execution_count": 35,
   "metadata": {
    "ExecuteTime": {
     "end_time": "2018-11-11T14:57:58.395816Z",
     "start_time": "2018-11-11T14:57:55.989279Z"
    }
   },
   "outputs": [
    {
     "name": "stderr",
     "output_type": "stream",
     "text": [
      "Using TensorFlow backend.\n"
     ]
    }
   ],
   "source": [
    "from fancyimpute import IterativeImputer \n",
    "\n",
    "filled = IterativeImputer().fit_transform(np.array(features))"
   ]
  },
  {
   "cell_type": "code",
   "execution_count": 36,
   "metadata": {
    "ExecuteTime": {
     "end_time": "2018-11-11T14:57:58.598608Z",
     "start_time": "2018-11-11T14:57:58.396815Z"
    }
   },
   "outputs": [
    {
     "data": {
      "image/png": "[encoded data removed]",
      "text/plain": [
       "<Figure size 432x288 with 1 Axes>"
      ]
     },
     "metadata": {},
     "output_type": "display_data"
    }
   ],
   "source": [
    "cols = list(features)\n",
    "results = pd.DataFrame(filled, columns=cols)\n",
    "ages = results.Age\n",
    "g = sns.distplot(ages, color='b', label=\"Skewness : %.2f\"%(ages.skew()))\n",
    "g = g.legend(loc='best')\n",
    "\n",
    "combineDF.Age = ages"
   ]
  },
  {
   "cell_type": "markdown",
   "metadata": {},
   "source": [
    "# Feature Engineering"
   ]
  },
  {
   "cell_type": "markdown",
   "metadata": {},
   "source": [
    "## Title"
   ]
  },
  {
   "cell_type": "code",
   "execution_count": 37,
   "metadata": {
    "ExecuteTime": {
     "end_time": "2018-11-11T14:57:58.609598Z",
     "start_time": "2018-11-11T14:57:58.599715Z"
    }
   },
   "outputs": [
    {
     "data": {
      "text/plain": [
       "dict_items([('Mr', 757), ('Mrs', 197), ('Miss', 260), ('Master', 61), ('Don', 1), ('Rev', 8), ('Dr', 8), ('Mme', 1), ('Ms', 2), ('Major', 2), ('Lady', 1), ('Sir', 1), ('Mlle', 2), ('Col', 4), ('Capt', 1), ('Countess', 1), ('Jonkheer', 1), ('Dona', 1)])"
      ]
     },
     "execution_count": 37,
     "metadata": {},
     "output_type": "execute_result"
    }
   ],
   "source": [
    "r = re.compile('(\\w*)(\\.)')\n",
    "titles = list(map(lambda x: r.search(x).group(1), combineDF['Name']))\n",
    "\n",
    "c = Counter(titles)\n",
    "c.items()"
   ]
  },
  {
   "cell_type": "code",
   "execution_count": 38,
   "metadata": {
    "ExecuteTime": {
     "end_time": "2018-11-11T14:57:58.871330Z",
     "start_time": "2018-11-11T14:57:58.611596Z"
    }
   },
   "outputs": [
    {
     "data": {
      "image/png": "[encoded data removed]",
      "text/plain": [
       "<Figure size 432x432 with 1 Axes>"
      ]
     },
     "metadata": {},
     "output_type": "display_data"
    }
   ],
   "source": [
    "titles = list(map(lambda x: x if c[x] > 10 else 'Rare', titles))\n",
    "combineDF['Title'] = titles\n",
    "sns.factorplot(x='Title', y='Survived', data=combineDF, kind=\"bar\", size=6);"
   ]
  },
  {
   "cell_type": "markdown",
   "metadata": {},
   "source": [
    "## Family size"
   ]
  },
  {
   "cell_type": "code",
   "execution_count": 39,
   "metadata": {
    "ExecuteTime": {
     "end_time": "2018-11-11T14:57:59.160034Z",
     "start_time": "2018-11-11T14:57:58.872329Z"
    }
   },
   "outputs": [
    {
     "data": {
      "image/png": "[encoded data removed]",
      "text/plain": [
       "<Figure size 360x360 with 1 Axes>"
      ]
     },
     "metadata": {},
     "output_type": "display_data"
    }
   ],
   "source": [
    "combineDF['FSize'] = combineDF.SibSp + combineDF.Parch + 1\n",
    "sns.factorplot(x='FSize', y='Survived', data=combineDF);"
   ]
  },
  {
   "cell_type": "code",
   "execution_count": 40,
   "metadata": {
    "ExecuteTime": {
     "end_time": "2018-11-11T14:57:59.167028Z",
     "start_time": "2018-11-11T14:57:59.161033Z"
    }
   },
   "outputs": [],
   "source": [
    "def group_fsize(x): \n",
    "    if x == 1:\n",
    "        return \"Alone\"\n",
    "    elif x <= 4:\n",
    "        return \"Small\"\n",
    "    else:\n",
    "        return \"Large\"\n",
    "\n",
    "combineDF['FGroup'] = list(map(group_fsize, combineDF.FSize))"
   ]
  },
  {
   "cell_type": "markdown",
   "metadata": {},
   "source": [
    "## Ticket"
   ]
  },
  {
   "cell_type": "code",
   "execution_count": 41,
   "metadata": {
    "ExecuteTime": {
     "end_time": "2018-11-11T14:57:59.177017Z",
     "start_time": "2018-11-11T14:57:59.169025Z"
    }
   },
   "outputs": [
    {
     "data": {
      "text/plain": [
       "0    A5    \n",
       "1    PC    \n",
       "2    STONO2\n",
       "3    X     \n",
       "4    X     \n",
       "Name: Ticket, dtype: object"
      ]
     },
     "execution_count": 41,
     "metadata": {},
     "output_type": "execute_result"
    }
   ],
   "source": [
    "Ticket = []\n",
    "for i in list(combineDF.Ticket):\n",
    "    if not i.isdigit():\n",
    "        Ticket.append(i.replace(\".\", \"\").replace(\"/\", \"\").strip().split(' ')[0]) #Take prefix\n",
    "    else:\n",
    "        Ticket.append(\"X\")\n",
    "\n",
    "combineDF['Ticket'] = Ticket\n",
    "combineDF['Ticket'].head()"
   ]
  },
  {
   "cell_type": "markdown",
   "metadata": {},
   "source": [
    "## Age group"
   ]
  },
  {
   "cell_type": "code",
   "execution_count": 42,
   "metadata": {
    "ExecuteTime": {
     "end_time": "2018-11-11T14:57:59.185008Z",
     "start_time": "2018-11-11T14:57:59.178016Z"
    }
   },
   "outputs": [],
   "source": [
    "def group_age(x): \n",
    "    if x <= 8:\n",
    "        return \"Child\"\n",
    "    elif x <= 18:\n",
    "        return \"Teen\"\n",
    "    elif x <= 40:\n",
    "        return \"Mid\"\n",
    "    elif x <= 60:\n",
    "        return \"Late\"\n",
    "    else:\n",
    "        return \"Elderly\"\n",
    "\n",
    "combineDF['AgeGroup'] = list(map(group_age, combineDF.Age))"
   ]
  },
  {
   "cell_type": "markdown",
   "metadata": {},
   "source": [
    "# Preprocessing\n",
    "\n",
    "Final cleanup before passing data to model:\n",
    "- Removing variables\n",
    "- Scaling\n",
    "- Dummy variables"
   ]
  },
  {
   "cell_type": "code",
   "execution_count": 43,
   "metadata": {
    "ExecuteTime": {
     "end_time": "2018-11-11T14:57:59.192001Z",
     "start_time": "2018-11-11T14:57:59.186008Z"
    }
   },
   "outputs": [],
   "source": [
    "from sklearn import preprocessing"
   ]
  },
  {
   "cell_type": "code",
   "execution_count": 44,
   "metadata": {
    "ExecuteTime": {
     "end_time": "2018-11-11T14:57:59.202992Z",
     "start_time": "2018-11-11T14:57:59.193001Z"
    }
   },
   "outputs": [],
   "source": [
    "combineDF.drop(labels=['Name'], axis=1, inplace=True)"
   ]
  },
  {
   "cell_type": "code",
   "execution_count": 45,
   "metadata": {
    "ExecuteTime": {
     "end_time": "2018-11-11T14:57:59.242949Z",
     "start_time": "2018-11-11T14:57:59.206986Z"
    }
   },
   "outputs": [],
   "source": [
    "combineDF = pd.get_dummies(combineDF, columns=['Cabin'])\n",
    "combineDF = pd.get_dummies(combineDF, columns=['Embarked'])\n",
    "combineDF = pd.get_dummies(combineDF, columns=['Title'])\n",
    "combineDF = pd.get_dummies(combineDF, columns=['FGroup'])\n",
    "combineDF = pd.get_dummies(combineDF, columns=['Pclass'])\n",
    "combineDF = pd.get_dummies(combineDF, columns=['Ticket'])\n",
    "combineDF = pd.get_dummies(combineDF, columns=['AgeGroup'])"
   ]
  },
  {
   "cell_type": "code",
   "execution_count": 46,
   "metadata": {
    "ExecuteTime": {
     "end_time": "2018-11-11T14:57:59.259933Z",
     "start_time": "2018-11-11T14:57:59.243948Z"
    }
   },
   "outputs": [],
   "source": [
    "trainDF = combineDF[combineDF.PassengerId <= 891].copy()\n",
    "testDF = combineDF[combineDF.PassengerId > 891].copy()\n",
    "testDF.reset_index(inplace=True, drop=True)\n",
    "testDF.drop(labels=['Survived'], axis=1, inplace=True)\n",
    "\n",
    "labels = ['Age', 'Fare', 'Parch', 'SibSp', 'FSize']\n",
    "scaler = preprocessing.StandardScaler().fit(trainDF[labels])\n",
    "trainDF[labels] = scaler.transform(trainDF[labels])\n",
    "testDF[labels] = scaler.transform(testDF[labels])"
   ]
  },
  {
   "cell_type": "code",
   "execution_count": 47,
   "metadata": {
    "ExecuteTime": {
     "end_time": "2018-11-11T14:57:59.302888Z",
     "start_time": "2018-11-11T14:57:59.264928Z"
    }
   },
   "outputs": [
    {
     "data": {
      "text/html": [
       "<div>\n",
       "<style scoped>\n",
       "    .dataframe tbody tr th:only-of-type {\n",
       "        vertical-align: middle;\n",
       "    }\n",
       "\n",
       "    .dataframe tbody tr th {\n",
       "        vertical-align: top;\n",
       "    }\n",
       "\n",
       "    .dataframe thead th {\n",
       "        text-align: right;\n",
       "    }\n",
       "</style>\n",
       "<table border=\"1\" class=\"dataframe\">\n",
       "  <thead>\n",
       "    <tr style=\"text-align: right;\">\n",
       "      <th></th>\n",
       "      <th>Age</th>\n",
       "      <th>Fare</th>\n",
       "      <th>Parch</th>\n",
       "      <th>PassengerId</th>\n",
       "      <th>Sex</th>\n",
       "      <th>SibSp</th>\n",
       "      <th>FSize</th>\n",
       "      <th>Cabin_A</th>\n",
       "      <th>Cabin_B</th>\n",
       "      <th>Cabin_C</th>\n",
       "      <th>Cabin_D</th>\n",
       "      <th>Cabin_E</th>\n",
       "      <th>Cabin_F</th>\n",
       "      <th>Cabin_G</th>\n",
       "      <th>Cabin_T</th>\n",
       "      <th>Cabin_X</th>\n",
       "      <th>Embarked_C</th>\n",
       "      <th>Embarked_Q</th>\n",
       "      <th>Embarked_S</th>\n",
       "      <th>Title_Master</th>\n",
       "      <th>Title_Miss</th>\n",
       "      <th>Title_Mr</th>\n",
       "      <th>Title_Mrs</th>\n",
       "      <th>Title_Rare</th>\n",
       "      <th>FGroup_Alone</th>\n",
       "      <th>FGroup_Large</th>\n",
       "      <th>FGroup_Small</th>\n",
       "      <th>Pclass_1</th>\n",
       "      <th>Pclass_2</th>\n",
       "      <th>Pclass_3</th>\n",
       "      <th>Ticket_A</th>\n",
       "      <th>Ticket_A4</th>\n",
       "      <th>Ticket_A5</th>\n",
       "      <th>Ticket_AQ3</th>\n",
       "      <th>Ticket_AQ4</th>\n",
       "      <th>Ticket_AS</th>\n",
       "      <th>Ticket_C</th>\n",
       "      <th>Ticket_CA</th>\n",
       "      <th>Ticket_CASOTON</th>\n",
       "      <th>Ticket_FC</th>\n",
       "      <th>Ticket_FCC</th>\n",
       "      <th>Ticket_Fa</th>\n",
       "      <th>Ticket_LINE</th>\n",
       "      <th>Ticket_LP</th>\n",
       "      <th>Ticket_PC</th>\n",
       "      <th>Ticket_PP</th>\n",
       "      <th>Ticket_PPP</th>\n",
       "      <th>Ticket_SC</th>\n",
       "      <th>Ticket_SCA3</th>\n",
       "      <th>Ticket_SCA4</th>\n",
       "      <th>Ticket_SCAH</th>\n",
       "      <th>Ticket_SCOW</th>\n",
       "      <th>Ticket_SCPARIS</th>\n",
       "      <th>Ticket_SCParis</th>\n",
       "      <th>Ticket_SOC</th>\n",
       "      <th>Ticket_SOP</th>\n",
       "      <th>Ticket_SOPP</th>\n",
       "      <th>Ticket_SOTONO2</th>\n",
       "      <th>Ticket_SOTONOQ</th>\n",
       "      <th>Ticket_SP</th>\n",
       "      <th>Ticket_STONO</th>\n",
       "      <th>Ticket_STONO2</th>\n",
       "      <th>Ticket_STONOQ</th>\n",
       "      <th>Ticket_SWPP</th>\n",
       "      <th>Ticket_WC</th>\n",
       "      <th>Ticket_WEP</th>\n",
       "      <th>Ticket_X</th>\n",
       "      <th>AgeGroup_Child</th>\n",
       "      <th>AgeGroup_Elderly</th>\n",
       "      <th>AgeGroup_Late</th>\n",
       "      <th>AgeGroup_Mid</th>\n",
       "      <th>AgeGroup_Teen</th>\n",
       "    </tr>\n",
       "  </thead>\n",
       "  <tbody>\n",
       "    <tr>\n",
       "      <th>0</th>\n",
       "      <td>0.380770</td>\n",
       "      <td>-0.464276</td>\n",
       "      <td>-0.473674</td>\n",
       "      <td>892</td>\n",
       "      <td>0</td>\n",
       "      <td>-0.474545</td>\n",
       "      <td>-0.560975</td>\n",
       "      <td>0</td>\n",
       "      <td>0</td>\n",
       "      <td>0</td>\n",
       "      <td>0</td>\n",
       "      <td>0</td>\n",
       "      <td>0</td>\n",
       "      <td>0</td>\n",
       "      <td>0</td>\n",
       "      <td>1</td>\n",
       "      <td>0</td>\n",
       "      <td>1</td>\n",
       "      <td>0</td>\n",
       "      <td>0</td>\n",
       "      <td>0</td>\n",
       "      <td>1</td>\n",
       "      <td>0</td>\n",
       "      <td>0</td>\n",
       "      <td>1</td>\n",
       "      <td>0</td>\n",
       "      <td>0</td>\n",
       "      <td>0</td>\n",
       "      <td>0</td>\n",
       "      <td>1</td>\n",
       "      <td>0</td>\n",
       "      <td>0</td>\n",
       "      <td>0</td>\n",
       "      <td>0</td>\n",
       "      <td>0</td>\n",
       "      <td>0</td>\n",
       "      <td>0</td>\n",
       "      <td>0</td>\n",
       "      <td>0</td>\n",
       "      <td>0</td>\n",
       "      <td>0</td>\n",
       "      <td>0</td>\n",
       "      <td>0</td>\n",
       "      <td>0</td>\n",
       "      <td>0</td>\n",
       "      <td>0</td>\n",
       "      <td>0</td>\n",
       "      <td>0</td>\n",
       "      <td>0</td>\n",
       "      <td>0</td>\n",
       "      <td>0</td>\n",
       "      <td>0</td>\n",
       "      <td>0</td>\n",
       "      <td>0</td>\n",
       "      <td>0</td>\n",
       "      <td>0</td>\n",
       "      <td>0</td>\n",
       "      <td>0</td>\n",
       "      <td>0</td>\n",
       "      <td>0</td>\n",
       "      <td>0</td>\n",
       "      <td>0</td>\n",
       "      <td>0</td>\n",
       "      <td>0</td>\n",
       "      <td>0</td>\n",
       "      <td>0</td>\n",
       "      <td>1</td>\n",
       "      <td>0</td>\n",
       "      <td>0</td>\n",
       "      <td>0</td>\n",
       "      <td>1</td>\n",
       "      <td>0</td>\n",
       "    </tr>\n",
       "    <tr>\n",
       "      <th>1</th>\n",
       "      <td>1.300472</td>\n",
       "      <td>-0.618641</td>\n",
       "      <td>-0.473674</td>\n",
       "      <td>893</td>\n",
       "      <td>1</td>\n",
       "      <td>0.432793</td>\n",
       "      <td>0.059160</td>\n",
       "      <td>0</td>\n",
       "      <td>0</td>\n",
       "      <td>0</td>\n",
       "      <td>0</td>\n",
       "      <td>0</td>\n",
       "      <td>0</td>\n",
       "      <td>0</td>\n",
       "      <td>0</td>\n",
       "      <td>1</td>\n",
       "      <td>0</td>\n",
       "      <td>0</td>\n",
       "      <td>1</td>\n",
       "      <td>0</td>\n",
       "      <td>0</td>\n",
       "      <td>0</td>\n",
       "      <td>1</td>\n",
       "      <td>0</td>\n",
       "      <td>0</td>\n",
       "      <td>0</td>\n",
       "      <td>1</td>\n",
       "      <td>0</td>\n",
       "      <td>0</td>\n",
       "      <td>1</td>\n",
       "      <td>0</td>\n",
       "      <td>0</td>\n",
       "      <td>0</td>\n",
       "      <td>0</td>\n",
       "      <td>0</td>\n",
       "      <td>0</td>\n",
       "      <td>0</td>\n",
       "      <td>0</td>\n",
       "      <td>0</td>\n",
       "      <td>0</td>\n",
       "      <td>0</td>\n",
       "      <td>0</td>\n",
       "      <td>0</td>\n",
       "      <td>0</td>\n",
       "      <td>0</td>\n",
       "      <td>0</td>\n",
       "      <td>0</td>\n",
       "      <td>0</td>\n",
       "      <td>0</td>\n",
       "      <td>0</td>\n",
       "      <td>0</td>\n",
       "      <td>0</td>\n",
       "      <td>0</td>\n",
       "      <td>0</td>\n",
       "      <td>0</td>\n",
       "      <td>0</td>\n",
       "      <td>0</td>\n",
       "      <td>0</td>\n",
       "      <td>0</td>\n",
       "      <td>0</td>\n",
       "      <td>0</td>\n",
       "      <td>0</td>\n",
       "      <td>0</td>\n",
       "      <td>0</td>\n",
       "      <td>0</td>\n",
       "      <td>0</td>\n",
       "      <td>1</td>\n",
       "      <td>0</td>\n",
       "      <td>0</td>\n",
       "      <td>1</td>\n",
       "      <td>0</td>\n",
       "      <td>0</td>\n",
       "    </tr>\n",
       "    <tr>\n",
       "      <th>2</th>\n",
       "      <td>2.404114</td>\n",
       "      <td>-0.170609</td>\n",
       "      <td>-0.473674</td>\n",
       "      <td>894</td>\n",
       "      <td>0</td>\n",
       "      <td>-0.474545</td>\n",
       "      <td>-0.560975</td>\n",
       "      <td>0</td>\n",
       "      <td>0</td>\n",
       "      <td>0</td>\n",
       "      <td>0</td>\n",
       "      <td>0</td>\n",
       "      <td>0</td>\n",
       "      <td>0</td>\n",
       "      <td>0</td>\n",
       "      <td>1</td>\n",
       "      <td>0</td>\n",
       "      <td>1</td>\n",
       "      <td>0</td>\n",
       "      <td>0</td>\n",
       "      <td>0</td>\n",
       "      <td>1</td>\n",
       "      <td>0</td>\n",
       "      <td>0</td>\n",
       "      <td>1</td>\n",
       "      <td>0</td>\n",
       "      <td>0</td>\n",
       "      <td>0</td>\n",
       "      <td>1</td>\n",
       "      <td>0</td>\n",
       "      <td>0</td>\n",
       "      <td>0</td>\n",
       "      <td>0</td>\n",
       "      <td>0</td>\n",
       "      <td>0</td>\n",
       "      <td>0</td>\n",
       "      <td>0</td>\n",
       "      <td>0</td>\n",
       "      <td>0</td>\n",
       "      <td>0</td>\n",
       "      <td>0</td>\n",
       "      <td>0</td>\n",
       "      <td>0</td>\n",
       "      <td>0</td>\n",
       "      <td>0</td>\n",
       "      <td>0</td>\n",
       "      <td>0</td>\n",
       "      <td>0</td>\n",
       "      <td>0</td>\n",
       "      <td>0</td>\n",
       "      <td>0</td>\n",
       "      <td>0</td>\n",
       "      <td>0</td>\n",
       "      <td>0</td>\n",
       "      <td>0</td>\n",
       "      <td>0</td>\n",
       "      <td>0</td>\n",
       "      <td>0</td>\n",
       "      <td>0</td>\n",
       "      <td>0</td>\n",
       "      <td>0</td>\n",
       "      <td>0</td>\n",
       "      <td>0</td>\n",
       "      <td>0</td>\n",
       "      <td>0</td>\n",
       "      <td>0</td>\n",
       "      <td>1</td>\n",
       "      <td>0</td>\n",
       "      <td>1</td>\n",
       "      <td>0</td>\n",
       "      <td>0</td>\n",
       "      <td>0</td>\n",
       "    </tr>\n",
       "    <tr>\n",
       "      <th>3</th>\n",
       "      <td>-0.171051</td>\n",
       "      <td>-0.324813</td>\n",
       "      <td>-0.473674</td>\n",
       "      <td>895</td>\n",
       "      <td>0</td>\n",
       "      <td>-0.474545</td>\n",
       "      <td>-0.560975</td>\n",
       "      <td>0</td>\n",
       "      <td>0</td>\n",
       "      <td>0</td>\n",
       "      <td>0</td>\n",
       "      <td>0</td>\n",
       "      <td>0</td>\n",
       "      <td>0</td>\n",
       "      <td>0</td>\n",
       "      <td>1</td>\n",
       "      <td>0</td>\n",
       "      <td>0</td>\n",
       "      <td>1</td>\n",
       "      <td>0</td>\n",
       "      <td>0</td>\n",
       "      <td>1</td>\n",
       "      <td>0</td>\n",
       "      <td>0</td>\n",
       "      <td>1</td>\n",
       "      <td>0</td>\n",
       "      <td>0</td>\n",
       "      <td>0</td>\n",
       "      <td>0</td>\n",
       "      <td>1</td>\n",
       "      <td>0</td>\n",
       "      <td>0</td>\n",
       "      <td>0</td>\n",
       "      <td>0</td>\n",
       "      <td>0</td>\n",
       "      <td>0</td>\n",
       "      <td>0</td>\n",
       "      <td>0</td>\n",
       "      <td>0</td>\n",
       "      <td>0</td>\n",
       "      <td>0</td>\n",
       "      <td>0</td>\n",
       "      <td>0</td>\n",
       "      <td>0</td>\n",
       "      <td>0</td>\n",
       "      <td>0</td>\n",
       "      <td>0</td>\n",
       "      <td>0</td>\n",
       "      <td>0</td>\n",
       "      <td>0</td>\n",
       "      <td>0</td>\n",
       "      <td>0</td>\n",
       "      <td>0</td>\n",
       "      <td>0</td>\n",
       "      <td>0</td>\n",
       "      <td>0</td>\n",
       "      <td>0</td>\n",
       "      <td>0</td>\n",
       "      <td>0</td>\n",
       "      <td>0</td>\n",
       "      <td>0</td>\n",
       "      <td>0</td>\n",
       "      <td>0</td>\n",
       "      <td>0</td>\n",
       "      <td>0</td>\n",
       "      <td>0</td>\n",
       "      <td>1</td>\n",
       "      <td>0</td>\n",
       "      <td>0</td>\n",
       "      <td>0</td>\n",
       "      <td>1</td>\n",
       "      <td>0</td>\n",
       "    </tr>\n",
       "    <tr>\n",
       "      <th>4</th>\n",
       "      <td>-0.538932</td>\n",
       "      <td>-0.798549</td>\n",
       "      <td>0.767630</td>\n",
       "      <td>896</td>\n",
       "      <td>1</td>\n",
       "      <td>0.432793</td>\n",
       "      <td>0.679295</td>\n",
       "      <td>0</td>\n",
       "      <td>0</td>\n",
       "      <td>0</td>\n",
       "      <td>0</td>\n",
       "      <td>0</td>\n",
       "      <td>0</td>\n",
       "      <td>0</td>\n",
       "      <td>0</td>\n",
       "      <td>1</td>\n",
       "      <td>0</td>\n",
       "      <td>0</td>\n",
       "      <td>1</td>\n",
       "      <td>0</td>\n",
       "      <td>0</td>\n",
       "      <td>0</td>\n",
       "      <td>1</td>\n",
       "      <td>0</td>\n",
       "      <td>0</td>\n",
       "      <td>0</td>\n",
       "      <td>1</td>\n",
       "      <td>0</td>\n",
       "      <td>0</td>\n",
       "      <td>1</td>\n",
       "      <td>0</td>\n",
       "      <td>0</td>\n",
       "      <td>0</td>\n",
       "      <td>0</td>\n",
       "      <td>0</td>\n",
       "      <td>0</td>\n",
       "      <td>0</td>\n",
       "      <td>0</td>\n",
       "      <td>0</td>\n",
       "      <td>0</td>\n",
       "      <td>0</td>\n",
       "      <td>0</td>\n",
       "      <td>0</td>\n",
       "      <td>0</td>\n",
       "      <td>0</td>\n",
       "      <td>0</td>\n",
       "      <td>0</td>\n",
       "      <td>0</td>\n",
       "      <td>0</td>\n",
       "      <td>0</td>\n",
       "      <td>0</td>\n",
       "      <td>0</td>\n",
       "      <td>0</td>\n",
       "      <td>0</td>\n",
       "      <td>0</td>\n",
       "      <td>0</td>\n",
       "      <td>0</td>\n",
       "      <td>0</td>\n",
       "      <td>0</td>\n",
       "      <td>0</td>\n",
       "      <td>0</td>\n",
       "      <td>0</td>\n",
       "      <td>0</td>\n",
       "      <td>0</td>\n",
       "      <td>0</td>\n",
       "      <td>0</td>\n",
       "      <td>1</td>\n",
       "      <td>0</td>\n",
       "      <td>0</td>\n",
       "      <td>0</td>\n",
       "      <td>1</td>\n",
       "      <td>0</td>\n",
       "    </tr>\n",
       "  </tbody>\n",
       "</table>\n",
       "</div>"
      ],
      "text/plain": [
       "        Age      Fare     Parch  PassengerId  Sex     SibSp     FSize  \\\n",
       "0  0.380770 -0.464276 -0.473674  892          0   -0.474545 -0.560975   \n",
       "1  1.300472 -0.618641 -0.473674  893          1    0.432793  0.059160   \n",
       "2  2.404114 -0.170609 -0.473674  894          0   -0.474545 -0.560975   \n",
       "3 -0.171051 -0.324813 -0.473674  895          0   -0.474545 -0.560975   \n",
       "4 -0.538932 -0.798549  0.767630  896          1    0.432793  0.679295   \n",
       "\n",
       "   Cabin_A  Cabin_B  Cabin_C  Cabin_D  Cabin_E  Cabin_F  Cabin_G  Cabin_T  \\\n",
       "0  0        0        0        0        0        0        0        0         \n",
       "1  0        0        0        0        0        0        0        0         \n",
       "2  0        0        0        0        0        0        0        0         \n",
       "3  0        0        0        0        0        0        0        0         \n",
       "4  0        0        0        0        0        0        0        0         \n",
       "\n",
       "   Cabin_X  Embarked_C  Embarked_Q  Embarked_S  Title_Master  Title_Miss  \\\n",
       "0  1        0           1           0           0             0            \n",
       "1  1        0           0           1           0             0            \n",
       "2  1        0           1           0           0             0            \n",
       "3  1        0           0           1           0             0            \n",
       "4  1        0           0           1           0             0            \n",
       "\n",
       "   Title_Mr  Title_Mrs  Title_Rare  FGroup_Alone  FGroup_Large  FGroup_Small  \\\n",
       "0  1         0          0           1             0             0              \n",
       "1  0         1          0           0             0             1              \n",
       "2  1         0          0           1             0             0              \n",
       "3  1         0          0           1             0             0              \n",
       "4  0         1          0           0             0             1              \n",
       "\n",
       "   Pclass_1  Pclass_2  Pclass_3  Ticket_A  Ticket_A4  Ticket_A5  Ticket_AQ3  \\\n",
       "0  0         0         1         0         0          0          0            \n",
       "1  0         0         1         0         0          0          0            \n",
       "2  0         1         0         0         0          0          0            \n",
       "3  0         0         1         0         0          0          0            \n",
       "4  0         0         1         0         0          0          0            \n",
       "\n",
       "   Ticket_AQ4  Ticket_AS  Ticket_C  Ticket_CA  Ticket_CASOTON  Ticket_FC  \\\n",
       "0  0           0          0         0          0               0           \n",
       "1  0           0          0         0          0               0           \n",
       "2  0           0          0         0          0               0           \n",
       "3  0           0          0         0          0               0           \n",
       "4  0           0          0         0          0               0           \n",
       "\n",
       "   Ticket_FCC  Ticket_Fa  Ticket_LINE  Ticket_LP  Ticket_PC  Ticket_PP  \\\n",
       "0  0           0          0            0          0          0           \n",
       "1  0           0          0            0          0          0           \n",
       "2  0           0          0            0          0          0           \n",
       "3  0           0          0            0          0          0           \n",
       "4  0           0          0            0          0          0           \n",
       "\n",
       "   Ticket_PPP  Ticket_SC  Ticket_SCA3  Ticket_SCA4  Ticket_SCAH  Ticket_SCOW  \\\n",
       "0  0           0          0            0            0            0             \n",
       "1  0           0          0            0            0            0             \n",
       "2  0           0          0            0            0            0             \n",
       "3  0           0          0            0            0            0             \n",
       "4  0           0          0            0            0            0             \n",
       "\n",
       "   Ticket_SCPARIS  Ticket_SCParis  Ticket_SOC  Ticket_SOP  Ticket_SOPP  \\\n",
       "0  0               0               0           0           0             \n",
       "1  0               0               0           0           0             \n",
       "2  0               0               0           0           0             \n",
       "3  0               0               0           0           0             \n",
       "4  0               0               0           0           0             \n",
       "\n",
       "   Ticket_SOTONO2  Ticket_SOTONOQ  Ticket_SP  Ticket_STONO  Ticket_STONO2  \\\n",
       "0  0               0               0          0             0               \n",
       "1  0               0               0          0             0               \n",
       "2  0               0               0          0             0               \n",
       "3  0               0               0          0             0               \n",
       "4  0               0               0          0             0               \n",
       "\n",
       "   Ticket_STONOQ  Ticket_SWPP  Ticket_WC  Ticket_WEP  Ticket_X  \\\n",
       "0  0              0            0          0           1          \n",
       "1  0              0            0          0           1          \n",
       "2  0              0            0          0           1          \n",
       "3  0              0            0          0           1          \n",
       "4  0              0            0          0           1          \n",
       "\n",
       "   AgeGroup_Child  AgeGroup_Elderly  AgeGroup_Late  AgeGroup_Mid  \\\n",
       "0  0               0                 0              1              \n",
       "1  0               0                 1              0              \n",
       "2  0               1                 0              0              \n",
       "3  0               0                 0              1              \n",
       "4  0               0                 0              1              \n",
       "\n",
       "   AgeGroup_Teen  \n",
       "0  0              \n",
       "1  0              \n",
       "2  0              \n",
       "3  0              \n",
       "4  0              "
      ]
     },
     "execution_count": 47,
     "metadata": {},
     "output_type": "execute_result"
    }
   ],
   "source": [
    "testDF.head()"
   ]
  },
  {
   "cell_type": "markdown",
   "metadata": {},
   "source": [
    "# Modelling"
   ]
  },
  {
   "cell_type": "code",
   "execution_count": 48,
   "metadata": {
    "ExecuteTime": {
     "end_time": "2018-11-11T14:57:59.327862Z",
     "start_time": "2018-11-11T14:57:59.303888Z"
    }
   },
   "outputs": [],
   "source": [
    "from sklearn.ensemble import RandomForestClassifier, AdaBoostClassifier, GradientBoostingClassifier,\\\n",
    "\tExtraTreesClassifier, VotingClassifier\n",
    "from sklearn.linear_model import LogisticRegression\n",
    "from sklearn.neighbors import KNeighborsClassifier\n",
    "from sklearn.tree import DecisionTreeClassifier\n",
    "from sklearn.neural_network import MLPClassifier\n",
    "from sklearn import preprocessing\n",
    "from sklearn.svm import SVC\n",
    "from sklearn.model_selection import GridSearchCV, cross_val_score, StratifiedKFold, learning_curve"
   ]
  },
  {
   "cell_type": "code",
   "execution_count": 49,
   "metadata": {
    "ExecuteTime": {
     "end_time": "2018-11-11T14:57:59.335854Z",
     "start_time": "2018-11-11T14:57:59.328862Z"
    }
   },
   "outputs": [],
   "source": [
    "trainDF.Survived = trainDF.Survived.astype(int)\n",
    "Y_train = trainDF.Survived\n",
    "X_train = trainDF.drop(labels=['Survived', 'PassengerId'], axis=1)"
   ]
  },
  {
   "cell_type": "markdown",
   "metadata": {},
   "source": [
    "## Explore potential models"
   ]
  },
  {
   "cell_type": "code",
   "execution_count": 50,
   "metadata": {
    "ExecuteTime": {
     "end_time": "2018-11-11T14:58:09.145815Z",
     "start_time": "2018-11-11T14:57:59.336853Z"
    }
   },
   "outputs": [],
   "source": [
    "kfold = StratifiedKFold(n_splits=10)\n",
    "\n",
    "random_state = 2\n",
    "classifiers = []\n",
    "classifiers.append(SVC(random_state=random_state))\n",
    "classifiers.append(DecisionTreeClassifier(random_state=random_state))\n",
    "classifiers.append(AdaBoostClassifier(DecisionTreeClassifier(random_state=random_state), random_state=random_state, learning_rate=0.1))\n",
    "classifiers.append(RandomForestClassifier(random_state=random_state))\n",
    "classifiers.append(ExtraTreesClassifier(random_state=random_state))\n",
    "classifiers.append(GradientBoostingClassifier(random_state=random_state))\n",
    "classifiers.append(MLPClassifier(random_state=random_state))\n",
    "classifiers.append(KNeighborsClassifier())\n",
    "classifiers.append(LogisticRegression(random_state=random_state))\n",
    "\n",
    "cv_results = []\n",
    "for classifier in classifiers:\n",
    "    cv_results.append(cross_val_score(classifier, X_train, y=Y_train, scoring='accuracy',  cv=kfold))\n",
    "\n",
    "cv_means = []\n",
    "cv_std = []\n",
    "for cv_result in cv_results:\n",
    "    cv_means.append(cv_result.mean())\n",
    "    cv_std.append(cv_result.std())\n",
    "\n",
    "cv_res = pd.DataFrame({'CrossValMeans':cv_means,'CrossValerrors':\n",
    "\tcv_std,'Algorithm':['SVC', 'DecisionTree', 'AdaBoost', 'RandomForest', 'ExtraTrees',\n",
    "                        'GradientBoosting', 'MultipleLayerPerceptron', 'KNeighboors', 'LogisticRegression']})"
   ]
  },
  {
   "cell_type": "code",
   "execution_count": 51,
   "metadata": {
    "ExecuteTime": {
     "end_time": "2018-11-11T14:58:09.391565Z",
     "start_time": "2018-11-11T14:58:09.146815Z"
    }
   },
   "outputs": [
    {
     "data": {
      "image/png": "[encoded data removed]",
      "text/plain": [
       "<Figure size 432x288 with 1 Axes>"
      ]
     },
     "metadata": {},
     "output_type": "display_data"
    }
   ],
   "source": [
    "g = sns.barplot('CrossValMeans', 'Algorithm', data=cv_res, palette='Set3', orient='h', **{'xerr':cv_std})\n",
    "g.set_xlabel('Mean Accuracy')\n",
    "g = g.set_title('Cross validation scores')"
   ]
  },
  {
   "cell_type": "markdown",
   "metadata": {},
   "source": [
    "Based on the Cross Validation score, I chose the following models for ensembling:\n",
    "- Gradient boosting\n",
    "- KNN\n",
    "- Logistic regression"
   ]
  },
  {
   "cell_type": "markdown",
   "metadata": {},
   "source": [
    "## Tuning individual models"
   ]
  },
  {
   "cell_type": "code",
   "execution_count": 52,
   "metadata": {
    "ExecuteTime": {
     "end_time": "2018-11-11T14:58:35.498509Z",
     "start_time": "2018-11-11T14:58:09.392564Z"
    }
   },
   "outputs": [
    {
     "name": "stdout",
     "output_type": "stream",
     "text": [
      "Fitting 10 folds for each of 72 candidates, totalling 720 fits\n"
     ]
    },
    {
     "name": "stderr",
     "output_type": "stream",
     "text": [
      "[Parallel(n_jobs=4)]: Using backend LokyBackend with 4 concurrent workers.\n",
      "[Parallel(n_jobs=4)]: Done  42 tasks      | elapsed:    2.6s\n",
      "[Parallel(n_jobs=4)]: Done 308 tasks      | elapsed:   11.5s\n",
      "[Parallel(n_jobs=4)]: Done 720 out of 720 | elapsed:   25.8s finished\n"
     ]
    },
    {
     "data": {
      "text/plain": [
       "0.8574635241301908"
      ]
     },
     "execution_count": 52,
     "metadata": {},
     "output_type": "execute_result"
    }
   ],
   "source": [
    "# Gradient boosting tunning\n",
    "\n",
    "GBC = GradientBoostingClassifier()\n",
    "gb_param_grid = {'loss' : [\"deviance\"],\n",
    "              'n_estimators' : [100,200,300],\n",
    "              'learning_rate': [0.1, 0.05, 0.01],\n",
    "              'max_depth': [4, 8],\n",
    "              'min_samples_leaf': [100,150],\n",
    "              'max_features': [0.3, 0.1] \n",
    "              }\n",
    "\n",
    "gsGBC = GridSearchCV(GBC, param_grid=gb_param_grid, cv=kfold, scoring=\"accuracy\", n_jobs=4, verbose = 1)\n",
    "gsGBC.fit(X_train, Y_train)\n",
    "\n",
    "GBC_best = gsGBC.best_estimator_\n",
    "\n",
    "gsGBC.best_score_"
   ]
  },
  {
   "cell_type": "code",
   "execution_count": 54,
   "metadata": {
    "ExecuteTime": {
     "end_time": "2018-11-11T14:58:54.019556Z",
     "start_time": "2018-11-11T14:58:35.513495Z"
    }
   },
   "outputs": [
    {
     "name": "stdout",
     "output_type": "stream",
     "text": [
      "Fitting 10 folds for each of 128 candidates, totalling 1280 fits\n"
     ]
    },
    {
     "name": "stderr",
     "output_type": "stream",
     "text": [
      "[Parallel(n_jobs=4)]: Using backend LokyBackend with 4 concurrent workers.\n",
      "[Parallel(n_jobs=4)]: Done 348 tasks      | elapsed:    5.9s\n",
      "[Parallel(n_jobs=4)]: Done 1280 out of 1280 | elapsed:   18.4s finished\n"
     ]
    },
    {
     "data": {
      "text/plain": [
       "0.8338945005611672"
      ]
     },
     "execution_count": 54,
     "metadata": {},
     "output_type": "execute_result"
    }
   ],
   "source": [
    "### KNN\n",
    "\n",
    "KNN = KNeighborsClassifier()\n",
    "param_grid = {\n",
    "    'n_neighbors' : [3, 5, 7, 9, 11, 15, 18, 25],\n",
    "    'weights' : ['uniform', 'distance'],\n",
    "    'leaf_size' : [20, 30, 40, 50],\n",
    "    'p': [1, 2]\n",
    "}\n",
    "\n",
    "gsKNN = GridSearchCV(KNN, param_grid=param_grid, cv=kfold, scoring='accuracy', n_jobs=4, verbose=1)\n",
    "gsKNN.fit(X_train, Y_train)\n",
    "KNN_best = gsKNN.best_estimator_\n",
    "\n",
    "gsKNN.best_score_"
   ]
  },
  {
   "cell_type": "code",
   "execution_count": 55,
   "metadata": {
    "ExecuteTime": {
     "end_time": "2018-11-11T14:58:54.355212Z",
     "start_time": "2018-11-11T14:58:54.021554Z"
    }
   },
   "outputs": [
    {
     "name": "stderr",
     "output_type": "stream",
     "text": [
      "[Parallel(n_jobs=4)]: Using backend LokyBackend with 4 concurrent workers.\n"
     ]
    },
    {
     "name": "stdout",
     "output_type": "stream",
     "text": [
      "Fitting 10 folds for each of 7 candidates, totalling 70 fits\n"
     ]
    },
    {
     "name": "stderr",
     "output_type": "stream",
     "text": [
      "[Parallel(n_jobs=4)]: Done  70 out of  70 | elapsed:    0.2s finished\n"
     ]
    },
    {
     "data": {
      "text/plain": [
       "0.8305274971941639"
      ]
     },
     "execution_count": 55,
     "metadata": {},
     "output_type": "execute_result"
    }
   ],
   "source": [
    "### Logistic Regression\n",
    "\n",
    "LR = LogisticRegression()\n",
    "param_grid = {\n",
    "    'C': [0.001, 0.01, 0.1, 1, 10, 100, 1000]\n",
    "}\n",
    "\n",
    "gsLR = GridSearchCV(LR, param_grid=param_grid, cv=kfold, scoring='accuracy', n_jobs=4, verbose=1)\n",
    "gsLR.fit(X_train, Y_train)\n",
    "LR_best = gsLR.best_estimator_\n",
    "\n",
    "gsLR.best_score_"
   ]
  },
  {
   "cell_type": "code",
   "execution_count": 58,
   "metadata": {
    "ExecuteTime": {
     "end_time": "2018-11-11T14:58:56.785725Z",
     "start_time": "2018-11-11T14:58:54.367200Z"
    }
   },
   "outputs": [
    {
     "data": {
      "image/png": "[encoded data removed]",
      "text/plain": [
       "<Figure size 432x288 with 1 Axes>"
      ]
     },
     "metadata": {},
     "output_type": "display_data"
    },
    {
     "data": {
      "image/png": "[encoded data removed]",
      "text/plain": [
       "<Figure size 432x288 with 1 Axes>"
      ]
     },
     "metadata": {},
     "output_type": "display_data"
    },
    {
     "data": {
      "image/png": "[encoded data removed]",
      "text/plain": [
       "<Figure size 432x288 with 1 Axes>"
      ]
     },
     "metadata": {},
     "output_type": "display_data"
    }
   ],
   "source": [
    "g = personal.plot_learning_curve(GBC_best, \"GradientBoosting learning curves\", X_train, Y_train, cv=kfold)\n",
    "g = personal.plot_learning_curve(KNN_best, \"KNN learning curves\", X_train, Y_train, cv=kfold);\n",
    "g = personal.plot_learning_curve(LR_best, \"Logistic Regression learning curves\", X_train, Y_train, cv=kfold);"
   ]
  },
  {
   "cell_type": "markdown",
   "metadata": {},
   "source": [
    "## Ensembling"
   ]
  },
  {
   "cell_type": "code",
   "execution_count": 59,
   "metadata": {
    "ExecuteTime": {
     "end_time": "2018-11-11T14:58:56.792718Z",
     "start_time": "2018-11-11T14:58:56.786724Z"
    }
   },
   "outputs": [],
   "source": [
    "testID = testDF.PassengerId\n",
    "X_test = testDF.drop(labels=['PassengerId'], axis=1)"
   ]
  },
  {
   "cell_type": "code",
   "execution_count": 60,
   "metadata": {
    "ExecuteTime": {
     "end_time": "2018-11-11T14:58:56.990516Z",
     "start_time": "2018-11-11T14:58:56.793717Z"
    },
    "scrolled": true
   },
   "outputs": [
    {
     "data": {
      "image/png": "[encoded data removed]",
      "text/plain": [
       "<Figure size 432x288 with 2 Axes>"
      ]
     },
     "metadata": {},
     "output_type": "display_data"
    }
   ],
   "source": [
    "test_Survived_GBC = pd.Series(GBC_best.predict(X_test), name=\"GBC\")\n",
    "test_Survived_KNN = pd.Series(KNN_best.predict(X_test), name=\"KNN\")\n",
    "test_Survived_LR = pd.Series(LR_best.predict(X_test), name=\"LR\")\n",
    "\n",
    "ensemble_results = pd.concat([test_Survived_GBC,\n",
    "                              test_Survived_KNN,\n",
    "                              test_Survived_LR\n",
    "                             ], axis=1)\n",
    "\n",
    "\n",
    "sns.heatmap(ensemble_results.corr(), annot=True);"
   ]
  },
  {
   "cell_type": "code",
   "execution_count": 61,
   "metadata": {
    "ExecuteTime": {
     "end_time": "2018-11-11T14:58:57.178324Z",
     "start_time": "2018-11-11T14:58:56.991514Z"
    }
   },
   "outputs": [],
   "source": [
    "votingC = VotingClassifier(estimators=[('gbc', GBC_best),\n",
    "                                       ('knn', KNN_best),\n",
    "                                       ('lr', LR_best)\n",
    "                                       ],\n",
    "                           voting='soft', n_jobs=4)\n",
    "\n",
    "votingC = votingC.fit(X_train, Y_train)"
   ]
  },
  {
   "cell_type": "code",
   "execution_count": 62,
   "metadata": {
    "ExecuteTime": {
     "end_time": "2018-11-11T14:58:57.226275Z",
     "start_time": "2018-11-11T14:58:57.180323Z"
    }
   },
   "outputs": [],
   "source": [
    "test_Survived = pd.Series(votingC.predict(X_test), name=\"Survived\")\n",
    "\n",
    "results = pd.concat([testID, test_Survived], axis=1)\n",
    "results.to_csv(\"output/submission_ensemble.csv\", index=False)"
   ]
  },
  {
   "cell_type": "markdown",
   "metadata": {},
   "source": [
    "This model achieved a leaderboard accuracy of 0.75598, a bit lower than I would have liked to, but I will consider this a good waypoint for now and maybe revisit it once I'm more experienced."
   ]
  }
 ],
 "metadata": {
  "kernelspec": {
   "display_name": "Python 3",
   "language": "python",
   "name": "python3"
  },
  "language_info": {
   "codemirror_mode": {
    "name": "ipython",
    "version": 3
   },
   "file_extension": ".py",
   "mimetype": "text/x-python",
   "name": "python",
   "nbconvert_exporter": "python",
   "pygments_lexer": "ipython3",
   "version": "3.6.6"
  },
  "toc": {
   "base_numbering": 1,
   "nav_menu": {},
   "number_sections": true,
   "sideBar": true,
   "skip_h1_title": false,
   "title_cell": "Table of Contents",
   "title_sidebar": "Contents",
   "toc_cell": false,
   "toc_position": {},
   "toc_section_display": true,
   "toc_window_display": false
  }
 },
 "nbformat": 4,
 "nbformat_minor": 2
}
